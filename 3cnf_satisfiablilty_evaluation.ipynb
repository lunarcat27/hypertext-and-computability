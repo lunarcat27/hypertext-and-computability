{
 "cells": [
  {
   "cell_type": "code",
   "execution_count": 5,
   "metadata": {},
   "outputs": [],
   "source": [
    "from matplotlib import pyplot as plt\n",
    "from tqdm import tqdm_notebook\n",
    "import numpy as np"
   ]
  },
  {
   "cell_type": "code",
   "execution_count": 6,
   "metadata": {},
   "outputs": [],
   "source": [
    "def evaluate(numVar):\n",
    "    arr = np.full(numVar, -1)\n",
    "    isSatisfiable = False\n",
    "    \n",
    "    for i in range(2 ** numVar):\n",
    "        b = [2 * int(d) - 1 for d in bin(i)[2:]]\n",
    "        for j in range(0, len(b)):\n",
    "            arr[numVar - len(b) + j] = b[j]\n",
    "        #print(arr)\n",
    "    \n",
    "        f = isNot\n",
    "        for j in range(numClause * 3):\n",
    "            f[j] = f[j] * arr[int(formula[j])]\n",
    "    \n",
    "        chk = True\n",
    "        for j in range(numClause):\n",
    "            if f[j * 3] == -1 and f[j * 3 + 1] == -1 and f[j * 3 + 2] == -1:\n",
    "                chk = False\n",
    "                break\n",
    "                \n",
    "        if chk == True:\n",
    "            tmp = f.reshape(-1, 3)\n",
    "            # print(tmp)\n",
    "            isSatisfiable = True\n",
    "            break\n",
    "            \n",
    "    return isSatisfiable"
   ]
  },
  {
   "cell_type": "code",
   "execution_count": 7,
   "metadata": {},
   "outputs": [],
   "source": [
    "maxV = 10\n",
    "maxC = 8\n",
    "maxIt = 100"
   ]
  },
  {
   "cell_type": "code",
   "execution_count": 8,
   "metadata": {
    "scrolled": true
   },
   "outputs": [
    {
     "name": "stderr",
     "output_type": "stream",
     "text": [
      "C:\\Users\\Moon\\anaconda3\\lib\\site-packages\\ipykernel_launcher.py:3: TqdmDeprecationWarning: This function will be removed in tqdm==5.0.0\n",
      "Please use `tqdm.notebook.tqdm` instead of `tqdm.tqdm_notebook`\n",
      "  This is separate from the ipykernel package so we can avoid doing imports until\n"
     ]
    },
    {
     "data": {
      "application/vnd.jupyter.widget-view+json": {
       "model_id": "ba89d79663114aae9f9d0a43d9ec4db7",
       "version_major": 2,
       "version_minor": 0
      },
      "text/plain": [
       "HBox(children=(FloatProgress(value=0.0, max=10.0), HTML(value='')))"
      ]
     },
     "metadata": {},
     "output_type": "display_data"
    },
    {
     "name": "stderr",
     "output_type": "stream",
     "text": [
      "C:\\Users\\Moon\\anaconda3\\lib\\site-packages\\ipykernel_launcher.py:6: TqdmDeprecationWarning: This function will be removed in tqdm==5.0.0\n",
      "Please use `tqdm.notebook.tqdm` instead of `tqdm.tqdm_notebook`\n",
      "  \n"
     ]
    },
    {
     "data": {
      "application/vnd.jupyter.widget-view+json": {
       "model_id": "1a6ce60fd2c944bbaa0c527e74cb954e",
       "version_major": 2,
       "version_minor": 0
      },
      "text/plain": [
       "HBox(children=(FloatProgress(value=0.0, max=8.0), HTML(value='')))"
      ]
     },
     "metadata": {},
     "output_type": "display_data"
    },
    {
     "name": "stderr",
     "output_type": "stream",
     "text": [
      "C:\\Users\\Moon\\anaconda3\\lib\\site-packages\\ipykernel_launcher.py:9: TqdmDeprecationWarning: This function will be removed in tqdm==5.0.0\n",
      "Please use `tqdm.notebook.tqdm` instead of `tqdm.tqdm_notebook`\n",
      "  if __name__ == '__main__':\n"
     ]
    },
    {
     "data": {
      "application/vnd.jupyter.widget-view+json": {
       "model_id": "1cf629d4c5544a5895e01b52b83c4373",
       "version_major": 2,
       "version_minor": 0
      },
      "text/plain": [
       "HBox(children=(FloatProgress(value=0.0), HTML(value='')))"
      ]
     },
     "metadata": {},
     "output_type": "display_data"
    },
    {
     "name": "stdout",
     "output_type": "stream",
     "text": [
      "\n",
      "[[88.  0.  0.  0.  0.  0.  0.  0.]\n",
      " [ 0.  0.  0.  0.  0.  0.  0.  0.]\n",
      " [ 0.  0.  0.  0.  0.  0.  0.  0.]\n",
      " [ 0.  0.  0.  0.  0.  0.  0.  0.]\n",
      " [ 0.  0.  0.  0.  0.  0.  0.  0.]\n",
      " [ 0.  0.  0.  0.  0.  0.  0.  0.]\n",
      " [ 0.  0.  0.  0.  0.  0.  0.  0.]\n",
      " [ 0.  0.  0.  0.  0.  0.  0.  0.]\n",
      " [ 0.  0.  0.  0.  0.  0.  0.  0.]\n",
      " [ 0.  0.  0.  0.  0.  0.  0.  0.]]\n"
     ]
    },
    {
     "data": {
      "application/vnd.jupyter.widget-view+json": {
       "model_id": "d75e156f8fdf485395d1bb7ce354fb34",
       "version_major": 2,
       "version_minor": 0
      },
      "text/plain": [
       "HBox(children=(FloatProgress(value=0.0), HTML(value='')))"
      ]
     },
     "metadata": {},
     "output_type": "display_data"
    },
    {
     "name": "stdout",
     "output_type": "stream",
     "text": [
      "\n",
      "[[88. 77.  0.  0.  0.  0.  0.  0.]\n",
      " [ 0.  0.  0.  0.  0.  0.  0.  0.]\n",
      " [ 0.  0.  0.  0.  0.  0.  0.  0.]\n",
      " [ 0.  0.  0.  0.  0.  0.  0.  0.]\n",
      " [ 0.  0.  0.  0.  0.  0.  0.  0.]\n",
      " [ 0.  0.  0.  0.  0.  0.  0.  0.]\n",
      " [ 0.  0.  0.  0.  0.  0.  0.  0.]\n",
      " [ 0.  0.  0.  0.  0.  0.  0.  0.]\n",
      " [ 0.  0.  0.  0.  0.  0.  0.  0.]\n",
      " [ 0.  0.  0.  0.  0.  0.  0.  0.]]\n"
     ]
    },
    {
     "data": {
      "application/vnd.jupyter.widget-view+json": {
       "model_id": "a66f8bbd7b83461c9a80b79241db62a6",
       "version_major": 2,
       "version_minor": 0
      },
      "text/plain": [
       "HBox(children=(FloatProgress(value=0.0), HTML(value='')))"
      ]
     },
     "metadata": {},
     "output_type": "display_data"
    },
    {
     "name": "stdout",
     "output_type": "stream",
     "text": [
      "\n",
      "[[88. 77. 69.  0.  0.  0.  0.  0.]\n",
      " [ 0.  0.  0.  0.  0.  0.  0.  0.]\n",
      " [ 0.  0.  0.  0.  0.  0.  0.  0.]\n",
      " [ 0.  0.  0.  0.  0.  0.  0.  0.]\n",
      " [ 0.  0.  0.  0.  0.  0.  0.  0.]\n",
      " [ 0.  0.  0.  0.  0.  0.  0.  0.]\n",
      " [ 0.  0.  0.  0.  0.  0.  0.  0.]\n",
      " [ 0.  0.  0.  0.  0.  0.  0.  0.]\n",
      " [ 0.  0.  0.  0.  0.  0.  0.  0.]\n",
      " [ 0.  0.  0.  0.  0.  0.  0.  0.]]\n"
     ]
    },
    {
     "data": {
      "application/vnd.jupyter.widget-view+json": {
       "model_id": "2c51b62adf7b4ef5a4c0a73ccf234c5a",
       "version_major": 2,
       "version_minor": 0
      },
      "text/plain": [
       "HBox(children=(FloatProgress(value=0.0), HTML(value='')))"
      ]
     },
     "metadata": {},
     "output_type": "display_data"
    },
    {
     "name": "stdout",
     "output_type": "stream",
     "text": [
      "\n",
      "[[88. 77. 69. 59.  0.  0.  0.  0.]\n",
      " [ 0.  0.  0.  0.  0.  0.  0.  0.]\n",
      " [ 0.  0.  0.  0.  0.  0.  0.  0.]\n",
      " [ 0.  0.  0.  0.  0.  0.  0.  0.]\n",
      " [ 0.  0.  0.  0.  0.  0.  0.  0.]\n",
      " [ 0.  0.  0.  0.  0.  0.  0.  0.]\n",
      " [ 0.  0.  0.  0.  0.  0.  0.  0.]\n",
      " [ 0.  0.  0.  0.  0.  0.  0.  0.]\n",
      " [ 0.  0.  0.  0.  0.  0.  0.  0.]\n",
      " [ 0.  0.  0.  0.  0.  0.  0.  0.]]\n"
     ]
    },
    {
     "data": {
      "application/vnd.jupyter.widget-view+json": {
       "model_id": "a9e0dc57ed584b359a1e262e8f8c173c",
       "version_major": 2,
       "version_minor": 0
      },
      "text/plain": [
       "HBox(children=(FloatProgress(value=0.0), HTML(value='')))"
      ]
     },
     "metadata": {},
     "output_type": "display_data"
    },
    {
     "name": "stdout",
     "output_type": "stream",
     "text": [
      "\n",
      "[[88. 77. 69. 59. 49.  0.  0.  0.]\n",
      " [ 0.  0.  0.  0.  0.  0.  0.  0.]\n",
      " [ 0.  0.  0.  0.  0.  0.  0.  0.]\n",
      " [ 0.  0.  0.  0.  0.  0.  0.  0.]\n",
      " [ 0.  0.  0.  0.  0.  0.  0.  0.]\n",
      " [ 0.  0.  0.  0.  0.  0.  0.  0.]\n",
      " [ 0.  0.  0.  0.  0.  0.  0.  0.]\n",
      " [ 0.  0.  0.  0.  0.  0.  0.  0.]\n",
      " [ 0.  0.  0.  0.  0.  0.  0.  0.]\n",
      " [ 0.  0.  0.  0.  0.  0.  0.  0.]]\n"
     ]
    },
    {
     "data": {
      "application/vnd.jupyter.widget-view+json": {
       "model_id": "2505d253c94e4e4586907f5b3358fb8e",
       "version_major": 2,
       "version_minor": 0
      },
      "text/plain": [
       "HBox(children=(FloatProgress(value=0.0), HTML(value='')))"
      ]
     },
     "metadata": {},
     "output_type": "display_data"
    },
    {
     "name": "stdout",
     "output_type": "stream",
     "text": [
      "\n",
      "[[88. 77. 69. 59. 49. 47.  0.  0.]\n",
      " [ 0.  0.  0.  0.  0.  0.  0.  0.]\n",
      " [ 0.  0.  0.  0.  0.  0.  0.  0.]\n",
      " [ 0.  0.  0.  0.  0.  0.  0.  0.]\n",
      " [ 0.  0.  0.  0.  0.  0.  0.  0.]\n",
      " [ 0.  0.  0.  0.  0.  0.  0.  0.]\n",
      " [ 0.  0.  0.  0.  0.  0.  0.  0.]\n",
      " [ 0.  0.  0.  0.  0.  0.  0.  0.]\n",
      " [ 0.  0.  0.  0.  0.  0.  0.  0.]\n",
      " [ 0.  0.  0.  0.  0.  0.  0.  0.]]\n"
     ]
    },
    {
     "data": {
      "application/vnd.jupyter.widget-view+json": {
       "model_id": "66750172d79f4733af80ec83ccaaf6b4",
       "version_major": 2,
       "version_minor": 0
      },
      "text/plain": [
       "HBox(children=(FloatProgress(value=0.0), HTML(value='')))"
      ]
     },
     "metadata": {},
     "output_type": "display_data"
    },
    {
     "name": "stdout",
     "output_type": "stream",
     "text": [
      "\n",
      "[[88. 77. 69. 59. 49. 47. 37.  0.]\n",
      " [ 0.  0.  0.  0.  0.  0.  0.  0.]\n",
      " [ 0.  0.  0.  0.  0.  0.  0.  0.]\n",
      " [ 0.  0.  0.  0.  0.  0.  0.  0.]\n",
      " [ 0.  0.  0.  0.  0.  0.  0.  0.]\n",
      " [ 0.  0.  0.  0.  0.  0.  0.  0.]\n",
      " [ 0.  0.  0.  0.  0.  0.  0.  0.]\n",
      " [ 0.  0.  0.  0.  0.  0.  0.  0.]\n",
      " [ 0.  0.  0.  0.  0.  0.  0.  0.]\n",
      " [ 0.  0.  0.  0.  0.  0.  0.  0.]]\n"
     ]
    },
    {
     "data": {
      "application/vnd.jupyter.widget-view+json": {
       "model_id": "35ddcf00d3d14de1ac945fd1e2ff350c",
       "version_major": 2,
       "version_minor": 0
      },
      "text/plain": [
       "HBox(children=(FloatProgress(value=0.0), HTML(value='')))"
      ]
     },
     "metadata": {},
     "output_type": "display_data"
    },
    {
     "name": "stdout",
     "output_type": "stream",
     "text": [
      "\n",
      "[[88. 77. 69. 59. 49. 47. 37. 35.]\n",
      " [ 0.  0.  0.  0.  0.  0.  0.  0.]\n",
      " [ 0.  0.  0.  0.  0.  0.  0.  0.]\n",
      " [ 0.  0.  0.  0.  0.  0.  0.  0.]\n",
      " [ 0.  0.  0.  0.  0.  0.  0.  0.]\n",
      " [ 0.  0.  0.  0.  0.  0.  0.  0.]\n",
      " [ 0.  0.  0.  0.  0.  0.  0.  0.]\n",
      " [ 0.  0.  0.  0.  0.  0.  0.  0.]\n",
      " [ 0.  0.  0.  0.  0.  0.  0.  0.]\n",
      " [ 0.  0.  0.  0.  0.  0.  0.  0.]]\n",
      "\n"
     ]
    },
    {
     "data": {
      "application/vnd.jupyter.widget-view+json": {
       "model_id": "cd154bd7208845c08731df2adeddc8b1",
       "version_major": 2,
       "version_minor": 0
      },
      "text/plain": [
       "HBox(children=(FloatProgress(value=0.0, max=8.0), HTML(value='')))"
      ]
     },
     "metadata": {},
     "output_type": "display_data"
    },
    {
     "data": {
      "application/vnd.jupyter.widget-view+json": {
       "model_id": "c8284a1ed8f14b4ba4c3ceb5eade89d0",
       "version_major": 2,
       "version_minor": 0
      },
      "text/plain": [
       "HBox(children=(FloatProgress(value=0.0), HTML(value='')))"
      ]
     },
     "metadata": {},
     "output_type": "display_data"
    },
    {
     "name": "stdout",
     "output_type": "stream",
     "text": [
      "\n",
      "[[88. 77. 69. 59. 49. 47. 37. 35.]\n",
      " [99.  0.  0.  0.  0.  0.  0.  0.]\n",
      " [ 0.  0.  0.  0.  0.  0.  0.  0.]\n",
      " [ 0.  0.  0.  0.  0.  0.  0.  0.]\n",
      " [ 0.  0.  0.  0.  0.  0.  0.  0.]\n",
      " [ 0.  0.  0.  0.  0.  0.  0.  0.]\n",
      " [ 0.  0.  0.  0.  0.  0.  0.  0.]\n",
      " [ 0.  0.  0.  0.  0.  0.  0.  0.]\n",
      " [ 0.  0.  0.  0.  0.  0.  0.  0.]\n",
      " [ 0.  0.  0.  0.  0.  0.  0.  0.]]\n"
     ]
    },
    {
     "data": {
      "application/vnd.jupyter.widget-view+json": {
       "model_id": "81ff5675598d461fb7a2c65537053ea9",
       "version_major": 2,
       "version_minor": 0
      },
      "text/plain": [
       "HBox(children=(FloatProgress(value=0.0), HTML(value='')))"
      ]
     },
     "metadata": {},
     "output_type": "display_data"
    },
    {
     "name": "stdout",
     "output_type": "stream",
     "text": [
      "\n",
      "[[88. 77. 69. 59. 49. 47. 37. 35.]\n",
      " [99. 95.  0.  0.  0.  0.  0.  0.]\n",
      " [ 0.  0.  0.  0.  0.  0.  0.  0.]\n",
      " [ 0.  0.  0.  0.  0.  0.  0.  0.]\n",
      " [ 0.  0.  0.  0.  0.  0.  0.  0.]\n",
      " [ 0.  0.  0.  0.  0.  0.  0.  0.]\n",
      " [ 0.  0.  0.  0.  0.  0.  0.  0.]\n",
      " [ 0.  0.  0.  0.  0.  0.  0.  0.]\n",
      " [ 0.  0.  0.  0.  0.  0.  0.  0.]\n",
      " [ 0.  0.  0.  0.  0.  0.  0.  0.]]\n"
     ]
    },
    {
     "data": {
      "application/vnd.jupyter.widget-view+json": {
       "model_id": "6843976756f740bbbbc5a21e91f00653",
       "version_major": 2,
       "version_minor": 0
      },
      "text/plain": [
       "HBox(children=(FloatProgress(value=0.0), HTML(value='')))"
      ]
     },
     "metadata": {},
     "output_type": "display_data"
    },
    {
     "name": "stdout",
     "output_type": "stream",
     "text": [
      "\n",
      "[[88. 77. 69. 59. 49. 47. 37. 35.]\n",
      " [99. 95. 82.  0.  0.  0.  0.  0.]\n",
      " [ 0.  0.  0.  0.  0.  0.  0.  0.]\n",
      " [ 0.  0.  0.  0.  0.  0.  0.  0.]\n",
      " [ 0.  0.  0.  0.  0.  0.  0.  0.]\n",
      " [ 0.  0.  0.  0.  0.  0.  0.  0.]\n",
      " [ 0.  0.  0.  0.  0.  0.  0.  0.]\n",
      " [ 0.  0.  0.  0.  0.  0.  0.  0.]\n",
      " [ 0.  0.  0.  0.  0.  0.  0.  0.]\n",
      " [ 0.  0.  0.  0.  0.  0.  0.  0.]]\n"
     ]
    },
    {
     "data": {
      "application/vnd.jupyter.widget-view+json": {
       "model_id": "e53858b94b464336a38996d59093986b",
       "version_major": 2,
       "version_minor": 0
      },
      "text/plain": [
       "HBox(children=(FloatProgress(value=0.0), HTML(value='')))"
      ]
     },
     "metadata": {},
     "output_type": "display_data"
    },
    {
     "name": "stdout",
     "output_type": "stream",
     "text": [
      "\n",
      "[[88. 77. 69. 59. 49. 47. 37. 35.]\n",
      " [99. 95. 82. 73.  0.  0.  0.  0.]\n",
      " [ 0.  0.  0.  0.  0.  0.  0.  0.]\n",
      " [ 0.  0.  0.  0.  0.  0.  0.  0.]\n",
      " [ 0.  0.  0.  0.  0.  0.  0.  0.]\n",
      " [ 0.  0.  0.  0.  0.  0.  0.  0.]\n",
      " [ 0.  0.  0.  0.  0.  0.  0.  0.]\n",
      " [ 0.  0.  0.  0.  0.  0.  0.  0.]\n",
      " [ 0.  0.  0.  0.  0.  0.  0.  0.]\n",
      " [ 0.  0.  0.  0.  0.  0.  0.  0.]]\n"
     ]
    },
    {
     "data": {
      "application/vnd.jupyter.widget-view+json": {
       "model_id": "27e568f82c03475cbb2e51bb9d27ce9e",
       "version_major": 2,
       "version_minor": 0
      },
      "text/plain": [
       "HBox(children=(FloatProgress(value=0.0), HTML(value='')))"
      ]
     },
     "metadata": {},
     "output_type": "display_data"
    },
    {
     "name": "stdout",
     "output_type": "stream",
     "text": [
      "\n",
      "[[88. 77. 69. 59. 49. 47. 37. 35.]\n",
      " [99. 95. 82. 73. 66.  0.  0.  0.]\n",
      " [ 0.  0.  0.  0.  0.  0.  0.  0.]\n",
      " [ 0.  0.  0.  0.  0.  0.  0.  0.]\n",
      " [ 0.  0.  0.  0.  0.  0.  0.  0.]\n",
      " [ 0.  0.  0.  0.  0.  0.  0.  0.]\n",
      " [ 0.  0.  0.  0.  0.  0.  0.  0.]\n",
      " [ 0.  0.  0.  0.  0.  0.  0.  0.]\n",
      " [ 0.  0.  0.  0.  0.  0.  0.  0.]\n",
      " [ 0.  0.  0.  0.  0.  0.  0.  0.]]\n"
     ]
    },
    {
     "data": {
      "application/vnd.jupyter.widget-view+json": {
       "model_id": "8840f7c3a7f949189f3a7fbed3070463",
       "version_major": 2,
       "version_minor": 0
      },
      "text/plain": [
       "HBox(children=(FloatProgress(value=0.0), HTML(value='')))"
      ]
     },
     "metadata": {},
     "output_type": "display_data"
    },
    {
     "name": "stdout",
     "output_type": "stream",
     "text": [
      "\n",
      "[[88. 77. 69. 59. 49. 47. 37. 35.]\n",
      " [99. 95. 82. 73. 66. 43.  0.  0.]\n",
      " [ 0.  0.  0.  0.  0.  0.  0.  0.]\n",
      " [ 0.  0.  0.  0.  0.  0.  0.  0.]\n",
      " [ 0.  0.  0.  0.  0.  0.  0.  0.]\n",
      " [ 0.  0.  0.  0.  0.  0.  0.  0.]\n",
      " [ 0.  0.  0.  0.  0.  0.  0.  0.]\n",
      " [ 0.  0.  0.  0.  0.  0.  0.  0.]\n",
      " [ 0.  0.  0.  0.  0.  0.  0.  0.]\n",
      " [ 0.  0.  0.  0.  0.  0.  0.  0.]]\n"
     ]
    },
    {
     "data": {
      "application/vnd.jupyter.widget-view+json": {
       "model_id": "cec71582fec1433ca43a0c6b2aea0f44",
       "version_major": 2,
       "version_minor": 0
      },
      "text/plain": [
       "HBox(children=(FloatProgress(value=0.0), HTML(value='')))"
      ]
     },
     "metadata": {},
     "output_type": "display_data"
    },
    {
     "name": "stdout",
     "output_type": "stream",
     "text": [
      "\n",
      "[[88. 77. 69. 59. 49. 47. 37. 35.]\n",
      " [99. 95. 82. 73. 66. 43. 35.  0.]\n",
      " [ 0.  0.  0.  0.  0.  0.  0.  0.]\n",
      " [ 0.  0.  0.  0.  0.  0.  0.  0.]\n",
      " [ 0.  0.  0.  0.  0.  0.  0.  0.]\n",
      " [ 0.  0.  0.  0.  0.  0.  0.  0.]\n",
      " [ 0.  0.  0.  0.  0.  0.  0.  0.]\n",
      " [ 0.  0.  0.  0.  0.  0.  0.  0.]\n",
      " [ 0.  0.  0.  0.  0.  0.  0.  0.]\n",
      " [ 0.  0.  0.  0.  0.  0.  0.  0.]]\n"
     ]
    },
    {
     "data": {
      "application/vnd.jupyter.widget-view+json": {
       "model_id": "7fa60dc1090540fa97538cd742669610",
       "version_major": 2,
       "version_minor": 0
      },
      "text/plain": [
       "HBox(children=(FloatProgress(value=0.0), HTML(value='')))"
      ]
     },
     "metadata": {},
     "output_type": "display_data"
    },
    {
     "name": "stdout",
     "output_type": "stream",
     "text": [
      "\n",
      "[[88. 77. 69. 59. 49. 47. 37. 35.]\n",
      " [99. 95. 82. 73. 66. 43. 35. 27.]\n",
      " [ 0.  0.  0.  0.  0.  0.  0.  0.]\n",
      " [ 0.  0.  0.  0.  0.  0.  0.  0.]\n",
      " [ 0.  0.  0.  0.  0.  0.  0.  0.]\n",
      " [ 0.  0.  0.  0.  0.  0.  0.  0.]\n",
      " [ 0.  0.  0.  0.  0.  0.  0.  0.]\n",
      " [ 0.  0.  0.  0.  0.  0.  0.  0.]\n",
      " [ 0.  0.  0.  0.  0.  0.  0.  0.]\n",
      " [ 0.  0.  0.  0.  0.  0.  0.  0.]]\n",
      "\n"
     ]
    },
    {
     "data": {
      "application/vnd.jupyter.widget-view+json": {
       "model_id": "ccd5f46fb7434f24adb7ea6a61fc2402",
       "version_major": 2,
       "version_minor": 0
      },
      "text/plain": [
       "HBox(children=(FloatProgress(value=0.0, max=8.0), HTML(value='')))"
      ]
     },
     "metadata": {},
     "output_type": "display_data"
    },
    {
     "data": {
      "application/vnd.jupyter.widget-view+json": {
       "model_id": "f0eb98955f3a46e7949b85f676ab7c66",
       "version_major": 2,
       "version_minor": 0
      },
      "text/plain": [
       "HBox(children=(FloatProgress(value=0.0), HTML(value='')))"
      ]
     },
     "metadata": {},
     "output_type": "display_data"
    },
    {
     "name": "stdout",
     "output_type": "stream",
     "text": [
      "\n",
      "[[ 88.  77.  69.  59.  49.  47.  37.  35.]\n",
      " [ 99.  95.  82.  73.  66.  43.  35.  27.]\n",
      " [100.   0.   0.   0.   0.   0.   0.   0.]\n",
      " [  0.   0.   0.   0.   0.   0.   0.   0.]\n",
      " [  0.   0.   0.   0.   0.   0.   0.   0.]\n",
      " [  0.   0.   0.   0.   0.   0.   0.   0.]\n",
      " [  0.   0.   0.   0.   0.   0.   0.   0.]\n",
      " [  0.   0.   0.   0.   0.   0.   0.   0.]\n",
      " [  0.   0.   0.   0.   0.   0.   0.   0.]\n",
      " [  0.   0.   0.   0.   0.   0.   0.   0.]]\n"
     ]
    },
    {
     "data": {
      "application/vnd.jupyter.widget-view+json": {
       "model_id": "e7f13bceeea44785bbf3572948cde7da",
       "version_major": 2,
       "version_minor": 0
      },
      "text/plain": [
       "HBox(children=(FloatProgress(value=0.0), HTML(value='')))"
      ]
     },
     "metadata": {},
     "output_type": "display_data"
    },
    {
     "name": "stdout",
     "output_type": "stream",
     "text": [
      "\n",
      "[[ 88.  77.  69.  59.  49.  47.  37.  35.]\n",
      " [ 99.  95.  82.  73.  66.  43.  35.  27.]\n",
      " [100.  91.   0.   0.   0.   0.   0.   0.]\n",
      " [  0.   0.   0.   0.   0.   0.   0.   0.]\n",
      " [  0.   0.   0.   0.   0.   0.   0.   0.]\n",
      " [  0.   0.   0.   0.   0.   0.   0.   0.]\n",
      " [  0.   0.   0.   0.   0.   0.   0.   0.]\n",
      " [  0.   0.   0.   0.   0.   0.   0.   0.]\n",
      " [  0.   0.   0.   0.   0.   0.   0.   0.]\n",
      " [  0.   0.   0.   0.   0.   0.   0.   0.]]\n"
     ]
    },
    {
     "data": {
      "application/vnd.jupyter.widget-view+json": {
       "model_id": "c0207c15f93b4b258800623d06366b9e",
       "version_major": 2,
       "version_minor": 0
      },
      "text/plain": [
       "HBox(children=(FloatProgress(value=0.0), HTML(value='')))"
      ]
     },
     "metadata": {},
     "output_type": "display_data"
    },
    {
     "name": "stdout",
     "output_type": "stream",
     "text": [
      "\n",
      "[[ 88.  77.  69.  59.  49.  47.  37.  35.]\n",
      " [ 99.  95.  82.  73.  66.  43.  35.  27.]\n",
      " [100.  91.  86.   0.   0.   0.   0.   0.]\n",
      " [  0.   0.   0.   0.   0.   0.   0.   0.]\n",
      " [  0.   0.   0.   0.   0.   0.   0.   0.]\n",
      " [  0.   0.   0.   0.   0.   0.   0.   0.]\n",
      " [  0.   0.   0.   0.   0.   0.   0.   0.]\n",
      " [  0.   0.   0.   0.   0.   0.   0.   0.]\n",
      " [  0.   0.   0.   0.   0.   0.   0.   0.]\n",
      " [  0.   0.   0.   0.   0.   0.   0.   0.]]\n"
     ]
    },
    {
     "data": {
      "application/vnd.jupyter.widget-view+json": {
       "model_id": "95dfe1028f5343fda73aa1ebbc32f99a",
       "version_major": 2,
       "version_minor": 0
      },
      "text/plain": [
       "HBox(children=(FloatProgress(value=0.0), HTML(value='')))"
      ]
     },
     "metadata": {},
     "output_type": "display_data"
    },
    {
     "name": "stdout",
     "output_type": "stream",
     "text": [
      "\n",
      "[[ 88.  77.  69.  59.  49.  47.  37.  35.]\n",
      " [ 99.  95.  82.  73.  66.  43.  35.  27.]\n",
      " [100.  91.  86.  68.   0.   0.   0.   0.]\n",
      " [  0.   0.   0.   0.   0.   0.   0.   0.]\n",
      " [  0.   0.   0.   0.   0.   0.   0.   0.]\n",
      " [  0.   0.   0.   0.   0.   0.   0.   0.]\n",
      " [  0.   0.   0.   0.   0.   0.   0.   0.]\n",
      " [  0.   0.   0.   0.   0.   0.   0.   0.]\n",
      " [  0.   0.   0.   0.   0.   0.   0.   0.]\n",
      " [  0.   0.   0.   0.   0.   0.   0.   0.]]\n"
     ]
    },
    {
     "data": {
      "application/vnd.jupyter.widget-view+json": {
       "model_id": "a9b2da52a9384333985ea5d396e5b9ce",
       "version_major": 2,
       "version_minor": 0
      },
      "text/plain": [
       "HBox(children=(FloatProgress(value=0.0), HTML(value='')))"
      ]
     },
     "metadata": {},
     "output_type": "display_data"
    },
    {
     "name": "stdout",
     "output_type": "stream",
     "text": [
      "\n",
      "[[ 88.  77.  69.  59.  49.  47.  37.  35.]\n",
      " [ 99.  95.  82.  73.  66.  43.  35.  27.]\n",
      " [100.  91.  86.  68.  47.   0.   0.   0.]\n",
      " [  0.   0.   0.   0.   0.   0.   0.   0.]\n",
      " [  0.   0.   0.   0.   0.   0.   0.   0.]\n",
      " [  0.   0.   0.   0.   0.   0.   0.   0.]\n",
      " [  0.   0.   0.   0.   0.   0.   0.   0.]\n",
      " [  0.   0.   0.   0.   0.   0.   0.   0.]\n",
      " [  0.   0.   0.   0.   0.   0.   0.   0.]\n",
      " [  0.   0.   0.   0.   0.   0.   0.   0.]]\n"
     ]
    },
    {
     "data": {
      "application/vnd.jupyter.widget-view+json": {
       "model_id": "6adb712c48ae430982bec0619d6cf439",
       "version_major": 2,
       "version_minor": 0
      },
      "text/plain": [
       "HBox(children=(FloatProgress(value=0.0), HTML(value='')))"
      ]
     },
     "metadata": {},
     "output_type": "display_data"
    },
    {
     "name": "stdout",
     "output_type": "stream",
     "text": [
      "\n",
      "[[ 88.  77.  69.  59.  49.  47.  37.  35.]\n",
      " [ 99.  95.  82.  73.  66.  43.  35.  27.]\n",
      " [100.  91.  86.  68.  47.  30.   0.   0.]\n",
      " [  0.   0.   0.   0.   0.   0.   0.   0.]\n",
      " [  0.   0.   0.   0.   0.   0.   0.   0.]\n",
      " [  0.   0.   0.   0.   0.   0.   0.   0.]\n",
      " [  0.   0.   0.   0.   0.   0.   0.   0.]\n",
      " [  0.   0.   0.   0.   0.   0.   0.   0.]\n",
      " [  0.   0.   0.   0.   0.   0.   0.   0.]\n",
      " [  0.   0.   0.   0.   0.   0.   0.   0.]]\n"
     ]
    },
    {
     "data": {
      "application/vnd.jupyter.widget-view+json": {
       "model_id": "212ee38762f74184b9dc472affaabaae",
       "version_major": 2,
       "version_minor": 0
      },
      "text/plain": [
       "HBox(children=(FloatProgress(value=0.0), HTML(value='')))"
      ]
     },
     "metadata": {},
     "output_type": "display_data"
    },
    {
     "name": "stdout",
     "output_type": "stream",
     "text": [
      "\n",
      "[[ 88.  77.  69.  59.  49.  47.  37.  35.]\n",
      " [ 99.  95.  82.  73.  66.  43.  35.  27.]\n",
      " [100.  91.  86.  68.  47.  30.  26.   0.]\n",
      " [  0.   0.   0.   0.   0.   0.   0.   0.]\n",
      " [  0.   0.   0.   0.   0.   0.   0.   0.]\n",
      " [  0.   0.   0.   0.   0.   0.   0.   0.]\n",
      " [  0.   0.   0.   0.   0.   0.   0.   0.]\n",
      " [  0.   0.   0.   0.   0.   0.   0.   0.]\n",
      " [  0.   0.   0.   0.   0.   0.   0.   0.]\n",
      " [  0.   0.   0.   0.   0.   0.   0.   0.]]\n"
     ]
    },
    {
     "data": {
      "application/vnd.jupyter.widget-view+json": {
       "model_id": "20dfd186cec947df8481d8913229ec01",
       "version_major": 2,
       "version_minor": 0
      },
      "text/plain": [
       "HBox(children=(FloatProgress(value=0.0), HTML(value='')))"
      ]
     },
     "metadata": {},
     "output_type": "display_data"
    },
    {
     "name": "stdout",
     "output_type": "stream",
     "text": [
      "\n",
      "[[ 88.  77.  69.  59.  49.  47.  37.  35.]\n",
      " [ 99.  95.  82.  73.  66.  43.  35.  27.]\n",
      " [100.  91.  86.  68.  47.  30.  26.  15.]\n",
      " [  0.   0.   0.   0.   0.   0.   0.   0.]\n",
      " [  0.   0.   0.   0.   0.   0.   0.   0.]\n",
      " [  0.   0.   0.   0.   0.   0.   0.   0.]\n",
      " [  0.   0.   0.   0.   0.   0.   0.   0.]\n",
      " [  0.   0.   0.   0.   0.   0.   0.   0.]\n",
      " [  0.   0.   0.   0.   0.   0.   0.   0.]\n",
      " [  0.   0.   0.   0.   0.   0.   0.   0.]]\n",
      "\n"
     ]
    },
    {
     "data": {
      "application/vnd.jupyter.widget-view+json": {
       "model_id": "6c684bc156424553b3d60bcef07a62b5",
       "version_major": 2,
       "version_minor": 0
      },
      "text/plain": [
       "HBox(children=(FloatProgress(value=0.0, max=8.0), HTML(value='')))"
      ]
     },
     "metadata": {},
     "output_type": "display_data"
    },
    {
     "data": {
      "application/vnd.jupyter.widget-view+json": {
       "model_id": "e5272383360344cd9be3c13ef80a83cb",
       "version_major": 2,
       "version_minor": 0
      },
      "text/plain": [
       "HBox(children=(FloatProgress(value=0.0), HTML(value='')))"
      ]
     },
     "metadata": {},
     "output_type": "display_data"
    },
    {
     "name": "stdout",
     "output_type": "stream",
     "text": [
      "\n",
      "[[ 88.  77.  69.  59.  49.  47.  37.  35.]\n",
      " [ 99.  95.  82.  73.  66.  43.  35.  27.]\n",
      " [100.  91.  86.  68.  47.  30.  26.  15.]\n",
      " [100.   0.   0.   0.   0.   0.   0.   0.]\n",
      " [  0.   0.   0.   0.   0.   0.   0.   0.]\n",
      " [  0.   0.   0.   0.   0.   0.   0.   0.]\n",
      " [  0.   0.   0.   0.   0.   0.   0.   0.]\n",
      " [  0.   0.   0.   0.   0.   0.   0.   0.]\n",
      " [  0.   0.   0.   0.   0.   0.   0.   0.]\n",
      " [  0.   0.   0.   0.   0.   0.   0.   0.]]\n"
     ]
    },
    {
     "data": {
      "application/vnd.jupyter.widget-view+json": {
       "model_id": "351a38da0b5c49b888bf9ffde59757b2",
       "version_major": 2,
       "version_minor": 0
      },
      "text/plain": [
       "HBox(children=(FloatProgress(value=0.0), HTML(value='')))"
      ]
     },
     "metadata": {},
     "output_type": "display_data"
    },
    {
     "name": "stdout",
     "output_type": "stream",
     "text": [
      "\n",
      "[[ 88.  77.  69.  59.  49.  47.  37.  35.]\n",
      " [ 99.  95.  82.  73.  66.  43.  35.  27.]\n",
      " [100.  91.  86.  68.  47.  30.  26.  15.]\n",
      " [100.  97.   0.   0.   0.   0.   0.   0.]\n",
      " [  0.   0.   0.   0.   0.   0.   0.   0.]\n",
      " [  0.   0.   0.   0.   0.   0.   0.   0.]\n",
      " [  0.   0.   0.   0.   0.   0.   0.   0.]\n",
      " [  0.   0.   0.   0.   0.   0.   0.   0.]\n",
      " [  0.   0.   0.   0.   0.   0.   0.   0.]\n",
      " [  0.   0.   0.   0.   0.   0.   0.   0.]]\n"
     ]
    },
    {
     "data": {
      "application/vnd.jupyter.widget-view+json": {
       "model_id": "9dd513c67e54431786fd27cbbaaeb15f",
       "version_major": 2,
       "version_minor": 0
      },
      "text/plain": [
       "HBox(children=(FloatProgress(value=0.0), HTML(value='')))"
      ]
     },
     "metadata": {},
     "output_type": "display_data"
    },
    {
     "name": "stdout",
     "output_type": "stream",
     "text": [
      "\n",
      "[[ 88.  77.  69.  59.  49.  47.  37.  35.]\n",
      " [ 99.  95.  82.  73.  66.  43.  35.  27.]\n",
      " [100.  91.  86.  68.  47.  30.  26.  15.]\n",
      " [100.  97.  87.   0.   0.   0.   0.   0.]\n",
      " [  0.   0.   0.   0.   0.   0.   0.   0.]\n",
      " [  0.   0.   0.   0.   0.   0.   0.   0.]\n",
      " [  0.   0.   0.   0.   0.   0.   0.   0.]\n",
      " [  0.   0.   0.   0.   0.   0.   0.   0.]\n",
      " [  0.   0.   0.   0.   0.   0.   0.   0.]\n",
      " [  0.   0.   0.   0.   0.   0.   0.   0.]]\n"
     ]
    },
    {
     "data": {
      "application/vnd.jupyter.widget-view+json": {
       "model_id": "ce893cc9bb014d71ba7461a48cb27420",
       "version_major": 2,
       "version_minor": 0
      },
      "text/plain": [
       "HBox(children=(FloatProgress(value=0.0), HTML(value='')))"
      ]
     },
     "metadata": {},
     "output_type": "display_data"
    },
    {
     "name": "stdout",
     "output_type": "stream",
     "text": [
      "\n",
      "[[ 88.  77.  69.  59.  49.  47.  37.  35.]\n",
      " [ 99.  95.  82.  73.  66.  43.  35.  27.]\n",
      " [100.  91.  86.  68.  47.  30.  26.  15.]\n",
      " [100.  97.  87.  64.   0.   0.   0.   0.]\n",
      " [  0.   0.   0.   0.   0.   0.   0.   0.]\n",
      " [  0.   0.   0.   0.   0.   0.   0.   0.]\n",
      " [  0.   0.   0.   0.   0.   0.   0.   0.]\n",
      " [  0.   0.   0.   0.   0.   0.   0.   0.]\n",
      " [  0.   0.   0.   0.   0.   0.   0.   0.]\n",
      " [  0.   0.   0.   0.   0.   0.   0.   0.]]\n"
     ]
    },
    {
     "data": {
      "application/vnd.jupyter.widget-view+json": {
       "model_id": "219ca9f840a249d09aa7813ca80bc27c",
       "version_major": 2,
       "version_minor": 0
      },
      "text/plain": [
       "HBox(children=(FloatProgress(value=0.0), HTML(value='')))"
      ]
     },
     "metadata": {},
     "output_type": "display_data"
    },
    {
     "name": "stdout",
     "output_type": "stream",
     "text": [
      "\n",
      "[[ 88.  77.  69.  59.  49.  47.  37.  35.]\n",
      " [ 99.  95.  82.  73.  66.  43.  35.  27.]\n",
      " [100.  91.  86.  68.  47.  30.  26.  15.]\n",
      " [100.  97.  87.  64.  41.   0.   0.   0.]\n",
      " [  0.   0.   0.   0.   0.   0.   0.   0.]\n",
      " [  0.   0.   0.   0.   0.   0.   0.   0.]\n",
      " [  0.   0.   0.   0.   0.   0.   0.   0.]\n",
      " [  0.   0.   0.   0.   0.   0.   0.   0.]\n",
      " [  0.   0.   0.   0.   0.   0.   0.   0.]\n",
      " [  0.   0.   0.   0.   0.   0.   0.   0.]]\n"
     ]
    },
    {
     "data": {
      "application/vnd.jupyter.widget-view+json": {
       "model_id": "adafbc2c29ee495b945a1bb758db9420",
       "version_major": 2,
       "version_minor": 0
      },
      "text/plain": [
       "HBox(children=(FloatProgress(value=0.0), HTML(value='')))"
      ]
     },
     "metadata": {},
     "output_type": "display_data"
    },
    {
     "name": "stdout",
     "output_type": "stream",
     "text": [
      "\n",
      "[[ 88.  77.  69.  59.  49.  47.  37.  35.]\n",
      " [ 99.  95.  82.  73.  66.  43.  35.  27.]\n",
      " [100.  91.  86.  68.  47.  30.  26.  15.]\n",
      " [100.  97.  87.  64.  41.  34.   0.   0.]\n",
      " [  0.   0.   0.   0.   0.   0.   0.   0.]\n",
      " [  0.   0.   0.   0.   0.   0.   0.   0.]\n",
      " [  0.   0.   0.   0.   0.   0.   0.   0.]\n",
      " [  0.   0.   0.   0.   0.   0.   0.   0.]\n",
      " [  0.   0.   0.   0.   0.   0.   0.   0.]\n",
      " [  0.   0.   0.   0.   0.   0.   0.   0.]]\n"
     ]
    },
    {
     "data": {
      "application/vnd.jupyter.widget-view+json": {
       "model_id": "b08bb4def38a477db17cfffb8339fd48",
       "version_major": 2,
       "version_minor": 0
      },
      "text/plain": [
       "HBox(children=(FloatProgress(value=0.0), HTML(value='')))"
      ]
     },
     "metadata": {},
     "output_type": "display_data"
    },
    {
     "name": "stdout",
     "output_type": "stream",
     "text": [
      "\n",
      "[[ 88.  77.  69.  59.  49.  47.  37.  35.]\n",
      " [ 99.  95.  82.  73.  66.  43.  35.  27.]\n",
      " [100.  91.  86.  68.  47.  30.  26.  15.]\n",
      " [100.  97.  87.  64.  41.  34.  13.   0.]\n",
      " [  0.   0.   0.   0.   0.   0.   0.   0.]\n",
      " [  0.   0.   0.   0.   0.   0.   0.   0.]\n",
      " [  0.   0.   0.   0.   0.   0.   0.   0.]\n",
      " [  0.   0.   0.   0.   0.   0.   0.   0.]\n",
      " [  0.   0.   0.   0.   0.   0.   0.   0.]\n",
      " [  0.   0.   0.   0.   0.   0.   0.   0.]]\n"
     ]
    },
    {
     "data": {
      "application/vnd.jupyter.widget-view+json": {
       "model_id": "24e511d5a79146a4a88874caaf1919d3",
       "version_major": 2,
       "version_minor": 0
      },
      "text/plain": [
       "HBox(children=(FloatProgress(value=0.0), HTML(value='')))"
      ]
     },
     "metadata": {},
     "output_type": "display_data"
    },
    {
     "name": "stdout",
     "output_type": "stream",
     "text": [
      "\n",
      "[[ 88.  77.  69.  59.  49.  47.  37.  35.]\n",
      " [ 99.  95.  82.  73.  66.  43.  35.  27.]\n",
      " [100.  91.  86.  68.  47.  30.  26.  15.]\n",
      " [100.  97.  87.  64.  41.  34.  13.  13.]\n",
      " [  0.   0.   0.   0.   0.   0.   0.   0.]\n",
      " [  0.   0.   0.   0.   0.   0.   0.   0.]\n",
      " [  0.   0.   0.   0.   0.   0.   0.   0.]\n",
      " [  0.   0.   0.   0.   0.   0.   0.   0.]\n",
      " [  0.   0.   0.   0.   0.   0.   0.   0.]\n",
      " [  0.   0.   0.   0.   0.   0.   0.   0.]]\n",
      "\n"
     ]
    },
    {
     "data": {
      "application/vnd.jupyter.widget-view+json": {
       "model_id": "22ebdcc7579f4ac68c79860f22235e18",
       "version_major": 2,
       "version_minor": 0
      },
      "text/plain": [
       "HBox(children=(FloatProgress(value=0.0, max=8.0), HTML(value='')))"
      ]
     },
     "metadata": {},
     "output_type": "display_data"
    },
    {
     "data": {
      "application/vnd.jupyter.widget-view+json": {
       "model_id": "517bb9520ef7405cb76d3cbc1eab8029",
       "version_major": 2,
       "version_minor": 0
      },
      "text/plain": [
       "HBox(children=(FloatProgress(value=0.0), HTML(value='')))"
      ]
     },
     "metadata": {},
     "output_type": "display_data"
    },
    {
     "name": "stdout",
     "output_type": "stream",
     "text": [
      "\n",
      "[[ 88.  77.  69.  59.  49.  47.  37.  35.]\n",
      " [ 99.  95.  82.  73.  66.  43.  35.  27.]\n",
      " [100.  91.  86.  68.  47.  30.  26.  15.]\n",
      " [100.  97.  87.  64.  41.  34.  13.  13.]\n",
      " [100.   0.   0.   0.   0.   0.   0.   0.]\n",
      " [  0.   0.   0.   0.   0.   0.   0.   0.]\n",
      " [  0.   0.   0.   0.   0.   0.   0.   0.]\n",
      " [  0.   0.   0.   0.   0.   0.   0.   0.]\n",
      " [  0.   0.   0.   0.   0.   0.   0.   0.]\n",
      " [  0.   0.   0.   0.   0.   0.   0.   0.]]\n"
     ]
    },
    {
     "data": {
      "application/vnd.jupyter.widget-view+json": {
       "model_id": "3a20ba85a8494cabb685f1cbbfdd706e",
       "version_major": 2,
       "version_minor": 0
      },
      "text/plain": [
       "HBox(children=(FloatProgress(value=0.0), HTML(value='')))"
      ]
     },
     "metadata": {},
     "output_type": "display_data"
    },
    {
     "name": "stdout",
     "output_type": "stream",
     "text": [
      "\n",
      "[[ 88.  77.  69.  59.  49.  47.  37.  35.]\n",
      " [ 99.  95.  82.  73.  66.  43.  35.  27.]\n",
      " [100.  91.  86.  68.  47.  30.  26.  15.]\n",
      " [100.  97.  87.  64.  41.  34.  13.  13.]\n",
      " [100.  98.   0.   0.   0.   0.   0.   0.]\n",
      " [  0.   0.   0.   0.   0.   0.   0.   0.]\n",
      " [  0.   0.   0.   0.   0.   0.   0.   0.]\n",
      " [  0.   0.   0.   0.   0.   0.   0.   0.]\n",
      " [  0.   0.   0.   0.   0.   0.   0.   0.]\n",
      " [  0.   0.   0.   0.   0.   0.   0.   0.]]\n"
     ]
    },
    {
     "data": {
      "application/vnd.jupyter.widget-view+json": {
       "model_id": "473de16eef5f46cab7f599345941844f",
       "version_major": 2,
       "version_minor": 0
      },
      "text/plain": [
       "HBox(children=(FloatProgress(value=0.0), HTML(value='')))"
      ]
     },
     "metadata": {},
     "output_type": "display_data"
    },
    {
     "name": "stdout",
     "output_type": "stream",
     "text": [
      "\n",
      "[[ 88.  77.  69.  59.  49.  47.  37.  35.]\n",
      " [ 99.  95.  82.  73.  66.  43.  35.  27.]\n",
      " [100.  91.  86.  68.  47.  30.  26.  15.]\n",
      " [100.  97.  87.  64.  41.  34.  13.  13.]\n",
      " [100.  98.  83.   0.   0.   0.   0.   0.]\n",
      " [  0.   0.   0.   0.   0.   0.   0.   0.]\n",
      " [  0.   0.   0.   0.   0.   0.   0.   0.]\n",
      " [  0.   0.   0.   0.   0.   0.   0.   0.]\n",
      " [  0.   0.   0.   0.   0.   0.   0.   0.]\n",
      " [  0.   0.   0.   0.   0.   0.   0.   0.]]\n"
     ]
    },
    {
     "data": {
      "application/vnd.jupyter.widget-view+json": {
       "model_id": "7607071933f64ab889bb5d4ad67f144c",
       "version_major": 2,
       "version_minor": 0
      },
      "text/plain": [
       "HBox(children=(FloatProgress(value=0.0), HTML(value='')))"
      ]
     },
     "metadata": {},
     "output_type": "display_data"
    },
    {
     "name": "stdout",
     "output_type": "stream",
     "text": [
      "\n",
      "[[ 88.  77.  69.  59.  49.  47.  37.  35.]\n",
      " [ 99.  95.  82.  73.  66.  43.  35.  27.]\n",
      " [100.  91.  86.  68.  47.  30.  26.  15.]\n",
      " [100.  97.  87.  64.  41.  34.  13.  13.]\n",
      " [100.  98.  83.  62.   0.   0.   0.   0.]\n",
      " [  0.   0.   0.   0.   0.   0.   0.   0.]\n",
      " [  0.   0.   0.   0.   0.   0.   0.   0.]\n",
      " [  0.   0.   0.   0.   0.   0.   0.   0.]\n",
      " [  0.   0.   0.   0.   0.   0.   0.   0.]\n",
      " [  0.   0.   0.   0.   0.   0.   0.   0.]]\n"
     ]
    },
    {
     "data": {
      "application/vnd.jupyter.widget-view+json": {
       "model_id": "0aed88c5a63849c8a969f22c312f68f6",
       "version_major": 2,
       "version_minor": 0
      },
      "text/plain": [
       "HBox(children=(FloatProgress(value=0.0), HTML(value='')))"
      ]
     },
     "metadata": {},
     "output_type": "display_data"
    },
    {
     "name": "stdout",
     "output_type": "stream",
     "text": [
      "\n",
      "[[ 88.  77.  69.  59.  49.  47.  37.  35.]\n",
      " [ 99.  95.  82.  73.  66.  43.  35.  27.]\n",
      " [100.  91.  86.  68.  47.  30.  26.  15.]\n",
      " [100.  97.  87.  64.  41.  34.  13.  13.]\n",
      " [100.  98.  83.  62.  30.   0.   0.   0.]\n",
      " [  0.   0.   0.   0.   0.   0.   0.   0.]\n",
      " [  0.   0.   0.   0.   0.   0.   0.   0.]\n",
      " [  0.   0.   0.   0.   0.   0.   0.   0.]\n",
      " [  0.   0.   0.   0.   0.   0.   0.   0.]\n",
      " [  0.   0.   0.   0.   0.   0.   0.   0.]]\n"
     ]
    },
    {
     "data": {
      "application/vnd.jupyter.widget-view+json": {
       "model_id": "ff31b28b5f5046b9a1ec2d2e277c5096",
       "version_major": 2,
       "version_minor": 0
      },
      "text/plain": [
       "HBox(children=(FloatProgress(value=0.0), HTML(value='')))"
      ]
     },
     "metadata": {},
     "output_type": "display_data"
    },
    {
     "name": "stdout",
     "output_type": "stream",
     "text": [
      "\n",
      "[[ 88.  77.  69.  59.  49.  47.  37.  35.]\n",
      " [ 99.  95.  82.  73.  66.  43.  35.  27.]\n",
      " [100.  91.  86.  68.  47.  30.  26.  15.]\n",
      " [100.  97.  87.  64.  41.  34.  13.  13.]\n",
      " [100.  98.  83.  62.  30.  22.   0.   0.]\n",
      " [  0.   0.   0.   0.   0.   0.   0.   0.]\n",
      " [  0.   0.   0.   0.   0.   0.   0.   0.]\n",
      " [  0.   0.   0.   0.   0.   0.   0.   0.]\n",
      " [  0.   0.   0.   0.   0.   0.   0.   0.]\n",
      " [  0.   0.   0.   0.   0.   0.   0.   0.]]\n"
     ]
    },
    {
     "data": {
      "application/vnd.jupyter.widget-view+json": {
       "model_id": "8bb9015eabf24f0a9ff306a89dfa31af",
       "version_major": 2,
       "version_minor": 0
      },
      "text/plain": [
       "HBox(children=(FloatProgress(value=0.0), HTML(value='')))"
      ]
     },
     "metadata": {},
     "output_type": "display_data"
    },
    {
     "name": "stdout",
     "output_type": "stream",
     "text": [
      "\n",
      "[[ 88.  77.  69.  59.  49.  47.  37.  35.]\n",
      " [ 99.  95.  82.  73.  66.  43.  35.  27.]\n",
      " [100.  91.  86.  68.  47.  30.  26.  15.]\n",
      " [100.  97.  87.  64.  41.  34.  13.  13.]\n",
      " [100.  98.  83.  62.  30.  22.  13.   0.]\n",
      " [  0.   0.   0.   0.   0.   0.   0.   0.]\n",
      " [  0.   0.   0.   0.   0.   0.   0.   0.]\n",
      " [  0.   0.   0.   0.   0.   0.   0.   0.]\n",
      " [  0.   0.   0.   0.   0.   0.   0.   0.]\n",
      " [  0.   0.   0.   0.   0.   0.   0.   0.]]\n"
     ]
    },
    {
     "data": {
      "application/vnd.jupyter.widget-view+json": {
       "model_id": "d6ca20a38dc6454b8de2fa79bb583944",
       "version_major": 2,
       "version_minor": 0
      },
      "text/plain": [
       "HBox(children=(FloatProgress(value=0.0), HTML(value='')))"
      ]
     },
     "metadata": {},
     "output_type": "display_data"
    },
    {
     "name": "stdout",
     "output_type": "stream",
     "text": [
      "\n",
      "[[ 88.  77.  69.  59.  49.  47.  37.  35.]\n",
      " [ 99.  95.  82.  73.  66.  43.  35.  27.]\n",
      " [100.  91.  86.  68.  47.  30.  26.  15.]\n",
      " [100.  97.  87.  64.  41.  34.  13.  13.]\n",
      " [100.  98.  83.  62.  30.  22.  13.  13.]\n",
      " [  0.   0.   0.   0.   0.   0.   0.   0.]\n",
      " [  0.   0.   0.   0.   0.   0.   0.   0.]\n",
      " [  0.   0.   0.   0.   0.   0.   0.   0.]\n",
      " [  0.   0.   0.   0.   0.   0.   0.   0.]\n",
      " [  0.   0.   0.   0.   0.   0.   0.   0.]]\n",
      "\n"
     ]
    },
    {
     "data": {
      "application/vnd.jupyter.widget-view+json": {
       "model_id": "c73151269a2048aebfb3da24009667c3",
       "version_major": 2,
       "version_minor": 0
      },
      "text/plain": [
       "HBox(children=(FloatProgress(value=0.0, max=8.0), HTML(value='')))"
      ]
     },
     "metadata": {},
     "output_type": "display_data"
    },
    {
     "data": {
      "application/vnd.jupyter.widget-view+json": {
       "model_id": "3dd4b4bd23dd4d19b5845aafff333db3",
       "version_major": 2,
       "version_minor": 0
      },
      "text/plain": [
       "HBox(children=(FloatProgress(value=0.0), HTML(value='')))"
      ]
     },
     "metadata": {},
     "output_type": "display_data"
    },
    {
     "name": "stdout",
     "output_type": "stream",
     "text": [
      "\n",
      "[[ 88.  77.  69.  59.  49.  47.  37.  35.]\n",
      " [ 99.  95.  82.  73.  66.  43.  35.  27.]\n",
      " [100.  91.  86.  68.  47.  30.  26.  15.]\n",
      " [100.  97.  87.  64.  41.  34.  13.  13.]\n",
      " [100.  98.  83.  62.  30.  22.  13.  13.]\n",
      " [100.   0.   0.   0.   0.   0.   0.   0.]\n",
      " [  0.   0.   0.   0.   0.   0.   0.   0.]\n",
      " [  0.   0.   0.   0.   0.   0.   0.   0.]\n",
      " [  0.   0.   0.   0.   0.   0.   0.   0.]\n",
      " [  0.   0.   0.   0.   0.   0.   0.   0.]]\n"
     ]
    },
    {
     "data": {
      "application/vnd.jupyter.widget-view+json": {
       "model_id": "859b6fa6ef4e458a823d30b21b8f09d3",
       "version_major": 2,
       "version_minor": 0
      },
      "text/plain": [
       "HBox(children=(FloatProgress(value=0.0), HTML(value='')))"
      ]
     },
     "metadata": {},
     "output_type": "display_data"
    },
    {
     "name": "stdout",
     "output_type": "stream",
     "text": [
      "\n",
      "[[ 88.  77.  69.  59.  49.  47.  37.  35.]\n",
      " [ 99.  95.  82.  73.  66.  43.  35.  27.]\n",
      " [100.  91.  86.  68.  47.  30.  26.  15.]\n",
      " [100.  97.  87.  64.  41.  34.  13.  13.]\n",
      " [100.  98.  83.  62.  30.  22.  13.  13.]\n",
      " [100.  96.   0.   0.   0.   0.   0.   0.]\n",
      " [  0.   0.   0.   0.   0.   0.   0.   0.]\n",
      " [  0.   0.   0.   0.   0.   0.   0.   0.]\n",
      " [  0.   0.   0.   0.   0.   0.   0.   0.]\n",
      " [  0.   0.   0.   0.   0.   0.   0.   0.]]\n"
     ]
    },
    {
     "data": {
      "application/vnd.jupyter.widget-view+json": {
       "model_id": "4e918eacc47f41d79a015bf505b60ca3",
       "version_major": 2,
       "version_minor": 0
      },
      "text/plain": [
       "HBox(children=(FloatProgress(value=0.0), HTML(value='')))"
      ]
     },
     "metadata": {},
     "output_type": "display_data"
    },
    {
     "name": "stdout",
     "output_type": "stream",
     "text": [
      "\n",
      "[[ 88.  77.  69.  59.  49.  47.  37.  35.]\n",
      " [ 99.  95.  82.  73.  66.  43.  35.  27.]\n",
      " [100.  91.  86.  68.  47.  30.  26.  15.]\n",
      " [100.  97.  87.  64.  41.  34.  13.  13.]\n",
      " [100.  98.  83.  62.  30.  22.  13.  13.]\n",
      " [100.  96.  89.   0.   0.   0.   0.   0.]\n",
      " [  0.   0.   0.   0.   0.   0.   0.   0.]\n",
      " [  0.   0.   0.   0.   0.   0.   0.   0.]\n",
      " [  0.   0.   0.   0.   0.   0.   0.   0.]\n",
      " [  0.   0.   0.   0.   0.   0.   0.   0.]]\n"
     ]
    },
    {
     "data": {
      "application/vnd.jupyter.widget-view+json": {
       "model_id": "303269bfe663470485b8cf626bd1e06e",
       "version_major": 2,
       "version_minor": 0
      },
      "text/plain": [
       "HBox(children=(FloatProgress(value=0.0), HTML(value='')))"
      ]
     },
     "metadata": {},
     "output_type": "display_data"
    },
    {
     "name": "stdout",
     "output_type": "stream",
     "text": [
      "\n",
      "[[ 88.  77.  69.  59.  49.  47.  37.  35.]\n",
      " [ 99.  95.  82.  73.  66.  43.  35.  27.]\n",
      " [100.  91.  86.  68.  47.  30.  26.  15.]\n",
      " [100.  97.  87.  64.  41.  34.  13.  13.]\n",
      " [100.  98.  83.  62.  30.  22.  13.  13.]\n",
      " [100.  96.  89.  65.   0.   0.   0.   0.]\n",
      " [  0.   0.   0.   0.   0.   0.   0.   0.]\n",
      " [  0.   0.   0.   0.   0.   0.   0.   0.]\n",
      " [  0.   0.   0.   0.   0.   0.   0.   0.]\n",
      " [  0.   0.   0.   0.   0.   0.   0.   0.]]\n"
     ]
    },
    {
     "data": {
      "application/vnd.jupyter.widget-view+json": {
       "model_id": "d73bcceeddbe4dff8d32d79d090d58ff",
       "version_major": 2,
       "version_minor": 0
      },
      "text/plain": [
       "HBox(children=(FloatProgress(value=0.0), HTML(value='')))"
      ]
     },
     "metadata": {},
     "output_type": "display_data"
    },
    {
     "name": "stdout",
     "output_type": "stream",
     "text": [
      "\n",
      "[[ 88.  77.  69.  59.  49.  47.  37.  35.]\n",
      " [ 99.  95.  82.  73.  66.  43.  35.  27.]\n",
      " [100.  91.  86.  68.  47.  30.  26.  15.]\n",
      " [100.  97.  87.  64.  41.  34.  13.  13.]\n",
      " [100.  98.  83.  62.  30.  22.  13.  13.]\n",
      " [100.  96.  89.  65.  32.   0.   0.   0.]\n",
      " [  0.   0.   0.   0.   0.   0.   0.   0.]\n",
      " [  0.   0.   0.   0.   0.   0.   0.   0.]\n",
      " [  0.   0.   0.   0.   0.   0.   0.   0.]\n",
      " [  0.   0.   0.   0.   0.   0.   0.   0.]]\n"
     ]
    },
    {
     "data": {
      "application/vnd.jupyter.widget-view+json": {
       "model_id": "432a4e4b37f7470cb95a7084a64a7fcf",
       "version_major": 2,
       "version_minor": 0
      },
      "text/plain": [
       "HBox(children=(FloatProgress(value=0.0), HTML(value='')))"
      ]
     },
     "metadata": {},
     "output_type": "display_data"
    },
    {
     "name": "stdout",
     "output_type": "stream",
     "text": [
      "\n",
      "[[ 88.  77.  69.  59.  49.  47.  37.  35.]\n",
      " [ 99.  95.  82.  73.  66.  43.  35.  27.]\n",
      " [100.  91.  86.  68.  47.  30.  26.  15.]\n",
      " [100.  97.  87.  64.  41.  34.  13.  13.]\n",
      " [100.  98.  83.  62.  30.  22.  13.  13.]\n",
      " [100.  96.  89.  65.  32.  27.   0.   0.]\n",
      " [  0.   0.   0.   0.   0.   0.   0.   0.]\n",
      " [  0.   0.   0.   0.   0.   0.   0.   0.]\n",
      " [  0.   0.   0.   0.   0.   0.   0.   0.]\n",
      " [  0.   0.   0.   0.   0.   0.   0.   0.]]\n"
     ]
    },
    {
     "data": {
      "application/vnd.jupyter.widget-view+json": {
       "model_id": "f5cf2e08c2eb4a368ddba494158319ce",
       "version_major": 2,
       "version_minor": 0
      },
      "text/plain": [
       "HBox(children=(FloatProgress(value=0.0), HTML(value='')))"
      ]
     },
     "metadata": {},
     "output_type": "display_data"
    },
    {
     "name": "stdout",
     "output_type": "stream",
     "text": [
      "\n",
      "[[ 88.  77.  69.  59.  49.  47.  37.  35.]\n",
      " [ 99.  95.  82.  73.  66.  43.  35.  27.]\n",
      " [100.  91.  86.  68.  47.  30.  26.  15.]\n",
      " [100.  97.  87.  64.  41.  34.  13.  13.]\n",
      " [100.  98.  83.  62.  30.  22.  13.  13.]\n",
      " [100.  96.  89.  65.  32.  27.   9.   0.]\n",
      " [  0.   0.   0.   0.   0.   0.   0.   0.]\n",
      " [  0.   0.   0.   0.   0.   0.   0.   0.]\n",
      " [  0.   0.   0.   0.   0.   0.   0.   0.]\n",
      " [  0.   0.   0.   0.   0.   0.   0.   0.]]\n"
     ]
    },
    {
     "data": {
      "application/vnd.jupyter.widget-view+json": {
       "model_id": "b24c86c8b9ba4e5da88c7adbd6e1644b",
       "version_major": 2,
       "version_minor": 0
      },
      "text/plain": [
       "HBox(children=(FloatProgress(value=0.0), HTML(value='')))"
      ]
     },
     "metadata": {},
     "output_type": "display_data"
    },
    {
     "name": "stdout",
     "output_type": "stream",
     "text": [
      "\n",
      "[[ 88.  77.  69.  59.  49.  47.  37.  35.]\n",
      " [ 99.  95.  82.  73.  66.  43.  35.  27.]\n",
      " [100.  91.  86.  68.  47.  30.  26.  15.]\n",
      " [100.  97.  87.  64.  41.  34.  13.  13.]\n",
      " [100.  98.  83.  62.  30.  22.  13.  13.]\n",
      " [100.  96.  89.  65.  32.  27.   9.   4.]\n",
      " [  0.   0.   0.   0.   0.   0.   0.   0.]\n",
      " [  0.   0.   0.   0.   0.   0.   0.   0.]\n",
      " [  0.   0.   0.   0.   0.   0.   0.   0.]\n",
      " [  0.   0.   0.   0.   0.   0.   0.   0.]]\n",
      "\n"
     ]
    },
    {
     "data": {
      "application/vnd.jupyter.widget-view+json": {
       "model_id": "b64251ccd6e5448296ab0b967d6883b6",
       "version_major": 2,
       "version_minor": 0
      },
      "text/plain": [
       "HBox(children=(FloatProgress(value=0.0, max=8.0), HTML(value='')))"
      ]
     },
     "metadata": {},
     "output_type": "display_data"
    },
    {
     "data": {
      "application/vnd.jupyter.widget-view+json": {
       "model_id": "8aef88152c3847caada46de4dab7e8c8",
       "version_major": 2,
       "version_minor": 0
      },
      "text/plain": [
       "HBox(children=(FloatProgress(value=0.0), HTML(value='')))"
      ]
     },
     "metadata": {},
     "output_type": "display_data"
    },
    {
     "name": "stdout",
     "output_type": "stream",
     "text": [
      "\n",
      "[[ 88.  77.  69.  59.  49.  47.  37.  35.]\n",
      " [ 99.  95.  82.  73.  66.  43.  35.  27.]\n",
      " [100.  91.  86.  68.  47.  30.  26.  15.]\n",
      " [100.  97.  87.  64.  41.  34.  13.  13.]\n",
      " [100.  98.  83.  62.  30.  22.  13.  13.]\n",
      " [100.  96.  89.  65.  32.  27.   9.   4.]\n",
      " [100.   0.   0.   0.   0.   0.   0.   0.]\n",
      " [  0.   0.   0.   0.   0.   0.   0.   0.]\n",
      " [  0.   0.   0.   0.   0.   0.   0.   0.]\n",
      " [  0.   0.   0.   0.   0.   0.   0.   0.]]\n"
     ]
    },
    {
     "data": {
      "application/vnd.jupyter.widget-view+json": {
       "model_id": "1f429071cc8842a5b2793e893f6bbe54",
       "version_major": 2,
       "version_minor": 0
      },
      "text/plain": [
       "HBox(children=(FloatProgress(value=0.0), HTML(value='')))"
      ]
     },
     "metadata": {},
     "output_type": "display_data"
    },
    {
     "name": "stdout",
     "output_type": "stream",
     "text": [
      "\n",
      "[[ 88.  77.  69.  59.  49.  47.  37.  35.]\n",
      " [ 99.  95.  82.  73.  66.  43.  35.  27.]\n",
      " [100.  91.  86.  68.  47.  30.  26.  15.]\n",
      " [100.  97.  87.  64.  41.  34.  13.  13.]\n",
      " [100.  98.  83.  62.  30.  22.  13.  13.]\n",
      " [100.  96.  89.  65.  32.  27.   9.   4.]\n",
      " [100.  97.   0.   0.   0.   0.   0.   0.]\n",
      " [  0.   0.   0.   0.   0.   0.   0.   0.]\n",
      " [  0.   0.   0.   0.   0.   0.   0.   0.]\n",
      " [  0.   0.   0.   0.   0.   0.   0.   0.]]\n"
     ]
    },
    {
     "data": {
      "application/vnd.jupyter.widget-view+json": {
       "model_id": "795d6780da93442c82fd1be9ea6cd53a",
       "version_major": 2,
       "version_minor": 0
      },
      "text/plain": [
       "HBox(children=(FloatProgress(value=0.0), HTML(value='')))"
      ]
     },
     "metadata": {},
     "output_type": "display_data"
    },
    {
     "name": "stdout",
     "output_type": "stream",
     "text": [
      "\n",
      "[[ 88.  77.  69.  59.  49.  47.  37.  35.]\n",
      " [ 99.  95.  82.  73.  66.  43.  35.  27.]\n",
      " [100.  91.  86.  68.  47.  30.  26.  15.]\n",
      " [100.  97.  87.  64.  41.  34.  13.  13.]\n",
      " [100.  98.  83.  62.  30.  22.  13.  13.]\n",
      " [100.  96.  89.  65.  32.  27.   9.   4.]\n",
      " [100.  97.  84.   0.   0.   0.   0.   0.]\n",
      " [  0.   0.   0.   0.   0.   0.   0.   0.]\n",
      " [  0.   0.   0.   0.   0.   0.   0.   0.]\n",
      " [  0.   0.   0.   0.   0.   0.   0.   0.]]\n"
     ]
    },
    {
     "data": {
      "application/vnd.jupyter.widget-view+json": {
       "model_id": "4b25a62e813444f596e72bab5bbebbc1",
       "version_major": 2,
       "version_minor": 0
      },
      "text/plain": [
       "HBox(children=(FloatProgress(value=0.0), HTML(value='')))"
      ]
     },
     "metadata": {},
     "output_type": "display_data"
    },
    {
     "name": "stdout",
     "output_type": "stream",
     "text": [
      "\n",
      "[[ 88.  77.  69.  59.  49.  47.  37.  35.]\n",
      " [ 99.  95.  82.  73.  66.  43.  35.  27.]\n",
      " [100.  91.  86.  68.  47.  30.  26.  15.]\n",
      " [100.  97.  87.  64.  41.  34.  13.  13.]\n",
      " [100.  98.  83.  62.  30.  22.  13.  13.]\n",
      " [100.  96.  89.  65.  32.  27.   9.   4.]\n",
      " [100.  97.  84.  60.   0.   0.   0.   0.]\n",
      " [  0.   0.   0.   0.   0.   0.   0.   0.]\n",
      " [  0.   0.   0.   0.   0.   0.   0.   0.]\n",
      " [  0.   0.   0.   0.   0.   0.   0.   0.]]\n"
     ]
    },
    {
     "data": {
      "application/vnd.jupyter.widget-view+json": {
       "model_id": "de9bca18fd454483aab183e1d87fbd64",
       "version_major": 2,
       "version_minor": 0
      },
      "text/plain": [
       "HBox(children=(FloatProgress(value=0.0), HTML(value='')))"
      ]
     },
     "metadata": {},
     "output_type": "display_data"
    },
    {
     "name": "stdout",
     "output_type": "stream",
     "text": [
      "\n",
      "[[ 88.  77.  69.  59.  49.  47.  37.  35.]\n",
      " [ 99.  95.  82.  73.  66.  43.  35.  27.]\n",
      " [100.  91.  86.  68.  47.  30.  26.  15.]\n",
      " [100.  97.  87.  64.  41.  34.  13.  13.]\n",
      " [100.  98.  83.  62.  30.  22.  13.  13.]\n",
      " [100.  96.  89.  65.  32.  27.   9.   4.]\n",
      " [100.  97.  84.  60.  43.   0.   0.   0.]\n",
      " [  0.   0.   0.   0.   0.   0.   0.   0.]\n",
      " [  0.   0.   0.   0.   0.   0.   0.   0.]\n",
      " [  0.   0.   0.   0.   0.   0.   0.   0.]]\n"
     ]
    },
    {
     "data": {
      "application/vnd.jupyter.widget-view+json": {
       "model_id": "57e8e2ee8fa74e789951ae5f297325c1",
       "version_major": 2,
       "version_minor": 0
      },
      "text/plain": [
       "HBox(children=(FloatProgress(value=0.0), HTML(value='')))"
      ]
     },
     "metadata": {},
     "output_type": "display_data"
    },
    {
     "name": "stdout",
     "output_type": "stream",
     "text": [
      "\n",
      "[[ 88.  77.  69.  59.  49.  47.  37.  35.]\n",
      " [ 99.  95.  82.  73.  66.  43.  35.  27.]\n",
      " [100.  91.  86.  68.  47.  30.  26.  15.]\n",
      " [100.  97.  87.  64.  41.  34.  13.  13.]\n",
      " [100.  98.  83.  62.  30.  22.  13.  13.]\n",
      " [100.  96.  89.  65.  32.  27.   9.   4.]\n",
      " [100.  97.  84.  60.  43.  14.   0.   0.]\n",
      " [  0.   0.   0.   0.   0.   0.   0.   0.]\n",
      " [  0.   0.   0.   0.   0.   0.   0.   0.]\n",
      " [  0.   0.   0.   0.   0.   0.   0.   0.]]\n"
     ]
    },
    {
     "data": {
      "application/vnd.jupyter.widget-view+json": {
       "model_id": "e78e2d748b7e415e9617fdaeaa631968",
       "version_major": 2,
       "version_minor": 0
      },
      "text/plain": [
       "HBox(children=(FloatProgress(value=0.0), HTML(value='')))"
      ]
     },
     "metadata": {},
     "output_type": "display_data"
    },
    {
     "name": "stdout",
     "output_type": "stream",
     "text": [
      "\n",
      "[[ 88.  77.  69.  59.  49.  47.  37.  35.]\n",
      " [ 99.  95.  82.  73.  66.  43.  35.  27.]\n",
      " [100.  91.  86.  68.  47.  30.  26.  15.]\n",
      " [100.  97.  87.  64.  41.  34.  13.  13.]\n",
      " [100.  98.  83.  62.  30.  22.  13.  13.]\n",
      " [100.  96.  89.  65.  32.  27.   9.   4.]\n",
      " [100.  97.  84.  60.  43.  14.   4.   0.]\n",
      " [  0.   0.   0.   0.   0.   0.   0.   0.]\n",
      " [  0.   0.   0.   0.   0.   0.   0.   0.]\n",
      " [  0.   0.   0.   0.   0.   0.   0.   0.]]\n"
     ]
    },
    {
     "data": {
      "application/vnd.jupyter.widget-view+json": {
       "model_id": "fb3aed02388c47ddb00d9ad6c6d325ea",
       "version_major": 2,
       "version_minor": 0
      },
      "text/plain": [
       "HBox(children=(FloatProgress(value=0.0), HTML(value='')))"
      ]
     },
     "metadata": {},
     "output_type": "display_data"
    },
    {
     "name": "stdout",
     "output_type": "stream",
     "text": [
      "\n",
      "[[ 88.  77.  69.  59.  49.  47.  37.  35.]\n",
      " [ 99.  95.  82.  73.  66.  43.  35.  27.]\n",
      " [100.  91.  86.  68.  47.  30.  26.  15.]\n",
      " [100.  97.  87.  64.  41.  34.  13.  13.]\n",
      " [100.  98.  83.  62.  30.  22.  13.  13.]\n",
      " [100.  96.  89.  65.  32.  27.   9.   4.]\n",
      " [100.  97.  84.  60.  43.  14.   4.   2.]\n",
      " [  0.   0.   0.   0.   0.   0.   0.   0.]\n",
      " [  0.   0.   0.   0.   0.   0.   0.   0.]\n",
      " [  0.   0.   0.   0.   0.   0.   0.   0.]]\n",
      "\n"
     ]
    },
    {
     "data": {
      "application/vnd.jupyter.widget-view+json": {
       "model_id": "914a68cb04fc4c449d9ad23cfc62fd11",
       "version_major": 2,
       "version_minor": 0
      },
      "text/plain": [
       "HBox(children=(FloatProgress(value=0.0, max=8.0), HTML(value='')))"
      ]
     },
     "metadata": {},
     "output_type": "display_data"
    },
    {
     "data": {
      "application/vnd.jupyter.widget-view+json": {
       "model_id": "a73a706736c04b0fa6a52dcb93da8ad8",
       "version_major": 2,
       "version_minor": 0
      },
      "text/plain": [
       "HBox(children=(FloatProgress(value=0.0), HTML(value='')))"
      ]
     },
     "metadata": {},
     "output_type": "display_data"
    },
    {
     "name": "stdout",
     "output_type": "stream",
     "text": [
      "\n",
      "[[ 88.  77.  69.  59.  49.  47.  37.  35.]\n",
      " [ 99.  95.  82.  73.  66.  43.  35.  27.]\n",
      " [100.  91.  86.  68.  47.  30.  26.  15.]\n",
      " [100.  97.  87.  64.  41.  34.  13.  13.]\n",
      " [100.  98.  83.  62.  30.  22.  13.  13.]\n",
      " [100.  96.  89.  65.  32.  27.   9.   4.]\n",
      " [100.  97.  84.  60.  43.  14.   4.   2.]\n",
      " [100.   0.   0.   0.   0.   0.   0.   0.]\n",
      " [  0.   0.   0.   0.   0.   0.   0.   0.]\n",
      " [  0.   0.   0.   0.   0.   0.   0.   0.]]\n"
     ]
    },
    {
     "data": {
      "application/vnd.jupyter.widget-view+json": {
       "model_id": "dae8ed087f984b73935f6835ce97657f",
       "version_major": 2,
       "version_minor": 0
      },
      "text/plain": [
       "HBox(children=(FloatProgress(value=0.0), HTML(value='')))"
      ]
     },
     "metadata": {},
     "output_type": "display_data"
    },
    {
     "name": "stdout",
     "output_type": "stream",
     "text": [
      "\n",
      "[[ 88.  77.  69.  59.  49.  47.  37.  35.]\n",
      " [ 99.  95.  82.  73.  66.  43.  35.  27.]\n",
      " [100.  91.  86.  68.  47.  30.  26.  15.]\n",
      " [100.  97.  87.  64.  41.  34.  13.  13.]\n",
      " [100.  98.  83.  62.  30.  22.  13.  13.]\n",
      " [100.  96.  89.  65.  32.  27.   9.   4.]\n",
      " [100.  97.  84.  60.  43.  14.   4.   2.]\n",
      " [100.  98.   0.   0.   0.   0.   0.   0.]\n",
      " [  0.   0.   0.   0.   0.   0.   0.   0.]\n",
      " [  0.   0.   0.   0.   0.   0.   0.   0.]]\n"
     ]
    },
    {
     "data": {
      "application/vnd.jupyter.widget-view+json": {
       "model_id": "f4b2f430d2db4c0f8fb864acf9fc5641",
       "version_major": 2,
       "version_minor": 0
      },
      "text/plain": [
       "HBox(children=(FloatProgress(value=0.0), HTML(value='')))"
      ]
     },
     "metadata": {},
     "output_type": "display_data"
    },
    {
     "name": "stdout",
     "output_type": "stream",
     "text": [
      "\n",
      "[[ 88.  77.  69.  59.  49.  47.  37.  35.]\n",
      " [ 99.  95.  82.  73.  66.  43.  35.  27.]\n",
      " [100.  91.  86.  68.  47.  30.  26.  15.]\n",
      " [100.  97.  87.  64.  41.  34.  13.  13.]\n",
      " [100.  98.  83.  62.  30.  22.  13.  13.]\n",
      " [100.  96.  89.  65.  32.  27.   9.   4.]\n",
      " [100.  97.  84.  60.  43.  14.   4.   2.]\n",
      " [100.  98.  85.   0.   0.   0.   0.   0.]\n",
      " [  0.   0.   0.   0.   0.   0.   0.   0.]\n",
      " [  0.   0.   0.   0.   0.   0.   0.   0.]]\n"
     ]
    },
    {
     "data": {
      "application/vnd.jupyter.widget-view+json": {
       "model_id": "8a12b79ae26643e1bc6e34c25393a905",
       "version_major": 2,
       "version_minor": 0
      },
      "text/plain": [
       "HBox(children=(FloatProgress(value=0.0), HTML(value='')))"
      ]
     },
     "metadata": {},
     "output_type": "display_data"
    },
    {
     "name": "stdout",
     "output_type": "stream",
     "text": [
      "\n",
      "[[ 88.  77.  69.  59.  49.  47.  37.  35.]\n",
      " [ 99.  95.  82.  73.  66.  43.  35.  27.]\n",
      " [100.  91.  86.  68.  47.  30.  26.  15.]\n",
      " [100.  97.  87.  64.  41.  34.  13.  13.]\n",
      " [100.  98.  83.  62.  30.  22.  13.  13.]\n",
      " [100.  96.  89.  65.  32.  27.   9.   4.]\n",
      " [100.  97.  84.  60.  43.  14.   4.   2.]\n",
      " [100.  98.  85.  62.   0.   0.   0.   0.]\n",
      " [  0.   0.   0.   0.   0.   0.   0.   0.]\n",
      " [  0.   0.   0.   0.   0.   0.   0.   0.]]\n"
     ]
    },
    {
     "data": {
      "application/vnd.jupyter.widget-view+json": {
       "model_id": "1cbd1b3c08a54a058debb5f0a79ee0f1",
       "version_major": 2,
       "version_minor": 0
      },
      "text/plain": [
       "HBox(children=(FloatProgress(value=0.0), HTML(value='')))"
      ]
     },
     "metadata": {},
     "output_type": "display_data"
    },
    {
     "name": "stdout",
     "output_type": "stream",
     "text": [
      "\n",
      "[[ 88.  77.  69.  59.  49.  47.  37.  35.]\n",
      " [ 99.  95.  82.  73.  66.  43.  35.  27.]\n",
      " [100.  91.  86.  68.  47.  30.  26.  15.]\n",
      " [100.  97.  87.  64.  41.  34.  13.  13.]\n",
      " [100.  98.  83.  62.  30.  22.  13.  13.]\n",
      " [100.  96.  89.  65.  32.  27.   9.   4.]\n",
      " [100.  97.  84.  60.  43.  14.   4.   2.]\n",
      " [100.  98.  85.  62.  27.   0.   0.   0.]\n",
      " [  0.   0.   0.   0.   0.   0.   0.   0.]\n",
      " [  0.   0.   0.   0.   0.   0.   0.   0.]]\n"
     ]
    },
    {
     "data": {
      "application/vnd.jupyter.widget-view+json": {
       "model_id": "5eb8a5b24b0342de9a11d15f1f29190d",
       "version_major": 2,
       "version_minor": 0
      },
      "text/plain": [
       "HBox(children=(FloatProgress(value=0.0), HTML(value='')))"
      ]
     },
     "metadata": {},
     "output_type": "display_data"
    },
    {
     "name": "stdout",
     "output_type": "stream",
     "text": [
      "\n",
      "[[ 88.  77.  69.  59.  49.  47.  37.  35.]\n",
      " [ 99.  95.  82.  73.  66.  43.  35.  27.]\n",
      " [100.  91.  86.  68.  47.  30.  26.  15.]\n",
      " [100.  97.  87.  64.  41.  34.  13.  13.]\n",
      " [100.  98.  83.  62.  30.  22.  13.  13.]\n",
      " [100.  96.  89.  65.  32.  27.   9.   4.]\n",
      " [100.  97.  84.  60.  43.  14.   4.   2.]\n",
      " [100.  98.  85.  62.  27.  14.   0.   0.]\n",
      " [  0.   0.   0.   0.   0.   0.   0.   0.]\n",
      " [  0.   0.   0.   0.   0.   0.   0.   0.]]\n"
     ]
    },
    {
     "data": {
      "application/vnd.jupyter.widget-view+json": {
       "model_id": "b6d7ae139d004fb89513e4e4fb3d657b",
       "version_major": 2,
       "version_minor": 0
      },
      "text/plain": [
       "HBox(children=(FloatProgress(value=0.0), HTML(value='')))"
      ]
     },
     "metadata": {},
     "output_type": "display_data"
    },
    {
     "name": "stdout",
     "output_type": "stream",
     "text": [
      "\n",
      "[[ 88.  77.  69.  59.  49.  47.  37.  35.]\n",
      " [ 99.  95.  82.  73.  66.  43.  35.  27.]\n",
      " [100.  91.  86.  68.  47.  30.  26.  15.]\n",
      " [100.  97.  87.  64.  41.  34.  13.  13.]\n",
      " [100.  98.  83.  62.  30.  22.  13.  13.]\n",
      " [100.  96.  89.  65.  32.  27.   9.   4.]\n",
      " [100.  97.  84.  60.  43.  14.   4.   2.]\n",
      " [100.  98.  85.  62.  27.  14.   4.   0.]\n",
      " [  0.   0.   0.   0.   0.   0.   0.   0.]\n",
      " [  0.   0.   0.   0.   0.   0.   0.   0.]]\n"
     ]
    },
    {
     "data": {
      "application/vnd.jupyter.widget-view+json": {
       "model_id": "50dc0a37c22d496298b7d0c56b9d0ca1",
       "version_major": 2,
       "version_minor": 0
      },
      "text/plain": [
       "HBox(children=(FloatProgress(value=0.0), HTML(value='')))"
      ]
     },
     "metadata": {},
     "output_type": "display_data"
    },
    {
     "name": "stdout",
     "output_type": "stream",
     "text": [
      "\n",
      "[[ 88.  77.  69.  59.  49.  47.  37.  35.]\n",
      " [ 99.  95.  82.  73.  66.  43.  35.  27.]\n",
      " [100.  91.  86.  68.  47.  30.  26.  15.]\n",
      " [100.  97.  87.  64.  41.  34.  13.  13.]\n",
      " [100.  98.  83.  62.  30.  22.  13.  13.]\n",
      " [100.  96.  89.  65.  32.  27.   9.   4.]\n",
      " [100.  97.  84.  60.  43.  14.   4.   2.]\n",
      " [100.  98.  85.  62.  27.  14.   4.   1.]\n",
      " [  0.   0.   0.   0.   0.   0.   0.   0.]\n",
      " [  0.   0.   0.   0.   0.   0.   0.   0.]]\n",
      "\n"
     ]
    },
    {
     "data": {
      "application/vnd.jupyter.widget-view+json": {
       "model_id": "1629b8655e4c4d72a257fe6aed847c60",
       "version_major": 2,
       "version_minor": 0
      },
      "text/plain": [
       "HBox(children=(FloatProgress(value=0.0, max=8.0), HTML(value='')))"
      ]
     },
     "metadata": {},
     "output_type": "display_data"
    },
    {
     "data": {
      "application/vnd.jupyter.widget-view+json": {
       "model_id": "84628034f85548f496c1ab5f281fc2a8",
       "version_major": 2,
       "version_minor": 0
      },
      "text/plain": [
       "HBox(children=(FloatProgress(value=0.0), HTML(value='')))"
      ]
     },
     "metadata": {},
     "output_type": "display_data"
    },
    {
     "name": "stdout",
     "output_type": "stream",
     "text": [
      "\n",
      "[[ 88.  77.  69.  59.  49.  47.  37.  35.]\n",
      " [ 99.  95.  82.  73.  66.  43.  35.  27.]\n",
      " [100.  91.  86.  68.  47.  30.  26.  15.]\n",
      " [100.  97.  87.  64.  41.  34.  13.  13.]\n",
      " [100.  98.  83.  62.  30.  22.  13.  13.]\n",
      " [100.  96.  89.  65.  32.  27.   9.   4.]\n",
      " [100.  97.  84.  60.  43.  14.   4.   2.]\n",
      " [100.  98.  85.  62.  27.  14.   4.   1.]\n",
      " [100.   0.   0.   0.   0.   0.   0.   0.]\n",
      " [  0.   0.   0.   0.   0.   0.   0.   0.]]\n"
     ]
    },
    {
     "data": {
      "application/vnd.jupyter.widget-view+json": {
       "model_id": "ac6b1a0f408348d7a1cc4d77e78beee1",
       "version_major": 2,
       "version_minor": 0
      },
      "text/plain": [
       "HBox(children=(FloatProgress(value=0.0), HTML(value='')))"
      ]
     },
     "metadata": {},
     "output_type": "display_data"
    },
    {
     "name": "stdout",
     "output_type": "stream",
     "text": [
      "\n",
      "[[ 88.  77.  69.  59.  49.  47.  37.  35.]\n",
      " [ 99.  95.  82.  73.  66.  43.  35.  27.]\n",
      " [100.  91.  86.  68.  47.  30.  26.  15.]\n",
      " [100.  97.  87.  64.  41.  34.  13.  13.]\n",
      " [100.  98.  83.  62.  30.  22.  13.  13.]\n",
      " [100.  96.  89.  65.  32.  27.   9.   4.]\n",
      " [100.  97.  84.  60.  43.  14.   4.   2.]\n",
      " [100.  98.  85.  62.  27.  14.   4.   1.]\n",
      " [100.  98.   0.   0.   0.   0.   0.   0.]\n",
      " [  0.   0.   0.   0.   0.   0.   0.   0.]]\n"
     ]
    },
    {
     "data": {
      "application/vnd.jupyter.widget-view+json": {
       "model_id": "01c6856df9ea4ec0be7ca61ac5bf99c2",
       "version_major": 2,
       "version_minor": 0
      },
      "text/plain": [
       "HBox(children=(FloatProgress(value=0.0), HTML(value='')))"
      ]
     },
     "metadata": {},
     "output_type": "display_data"
    },
    {
     "name": "stdout",
     "output_type": "stream",
     "text": [
      "\n",
      "[[ 88.  77.  69.  59.  49.  47.  37.  35.]\n",
      " [ 99.  95.  82.  73.  66.  43.  35.  27.]\n",
      " [100.  91.  86.  68.  47.  30.  26.  15.]\n",
      " [100.  97.  87.  64.  41.  34.  13.  13.]\n",
      " [100.  98.  83.  62.  30.  22.  13.  13.]\n",
      " [100.  96.  89.  65.  32.  27.   9.   4.]\n",
      " [100.  97.  84.  60.  43.  14.   4.   2.]\n",
      " [100.  98.  85.  62.  27.  14.   4.   1.]\n",
      " [100.  98.  89.   0.   0.   0.   0.   0.]\n",
      " [  0.   0.   0.   0.   0.   0.   0.   0.]]\n"
     ]
    },
    {
     "data": {
      "application/vnd.jupyter.widget-view+json": {
       "model_id": "5816dec3cfa047e4b71fa241b5eb9c39",
       "version_major": 2,
       "version_minor": 0
      },
      "text/plain": [
       "HBox(children=(FloatProgress(value=0.0), HTML(value='')))"
      ]
     },
     "metadata": {},
     "output_type": "display_data"
    },
    {
     "name": "stdout",
     "output_type": "stream",
     "text": [
      "\n",
      "[[ 88.  77.  69.  59.  49.  47.  37.  35.]\n",
      " [ 99.  95.  82.  73.  66.  43.  35.  27.]\n",
      " [100.  91.  86.  68.  47.  30.  26.  15.]\n",
      " [100.  97.  87.  64.  41.  34.  13.  13.]\n",
      " [100.  98.  83.  62.  30.  22.  13.  13.]\n",
      " [100.  96.  89.  65.  32.  27.   9.   4.]\n",
      " [100.  97.  84.  60.  43.  14.   4.   2.]\n",
      " [100.  98.  85.  62.  27.  14.   4.   1.]\n",
      " [100.  98.  89.  60.   0.   0.   0.   0.]\n",
      " [  0.   0.   0.   0.   0.   0.   0.   0.]]\n"
     ]
    },
    {
     "data": {
      "application/vnd.jupyter.widget-view+json": {
       "model_id": "83aa191003bb42ecb02d4cfabc8d7ed6",
       "version_major": 2,
       "version_minor": 0
      },
      "text/plain": [
       "HBox(children=(FloatProgress(value=0.0), HTML(value='')))"
      ]
     },
     "metadata": {},
     "output_type": "display_data"
    },
    {
     "name": "stdout",
     "output_type": "stream",
     "text": [
      "\n",
      "[[ 88.  77.  69.  59.  49.  47.  37.  35.]\n",
      " [ 99.  95.  82.  73.  66.  43.  35.  27.]\n",
      " [100.  91.  86.  68.  47.  30.  26.  15.]\n",
      " [100.  97.  87.  64.  41.  34.  13.  13.]\n",
      " [100.  98.  83.  62.  30.  22.  13.  13.]\n",
      " [100.  96.  89.  65.  32.  27.   9.   4.]\n",
      " [100.  97.  84.  60.  43.  14.   4.   2.]\n",
      " [100.  98.  85.  62.  27.  14.   4.   1.]\n",
      " [100.  98.  89.  60.  29.   0.   0.   0.]\n",
      " [  0.   0.   0.   0.   0.   0.   0.   0.]]\n"
     ]
    },
    {
     "data": {
      "application/vnd.jupyter.widget-view+json": {
       "model_id": "0a46ddf1fbcc4846a1e67af5b3e1d04f",
       "version_major": 2,
       "version_minor": 0
      },
      "text/plain": [
       "HBox(children=(FloatProgress(value=0.0), HTML(value='')))"
      ]
     },
     "metadata": {},
     "output_type": "display_data"
    },
    {
     "name": "stdout",
     "output_type": "stream",
     "text": [
      "\n",
      "[[ 88.  77.  69.  59.  49.  47.  37.  35.]\n",
      " [ 99.  95.  82.  73.  66.  43.  35.  27.]\n",
      " [100.  91.  86.  68.  47.  30.  26.  15.]\n",
      " [100.  97.  87.  64.  41.  34.  13.  13.]\n",
      " [100.  98.  83.  62.  30.  22.  13.  13.]\n",
      " [100.  96.  89.  65.  32.  27.   9.   4.]\n",
      " [100.  97.  84.  60.  43.  14.   4.   2.]\n",
      " [100.  98.  85.  62.  27.  14.   4.   1.]\n",
      " [100.  98.  89.  60.  29.  13.   0.   0.]\n",
      " [  0.   0.   0.   0.   0.   0.   0.   0.]]\n"
     ]
    },
    {
     "data": {
      "application/vnd.jupyter.widget-view+json": {
       "model_id": "6b7b76e2707c4efd86c9ccbc55bf1dc0",
       "version_major": 2,
       "version_minor": 0
      },
      "text/plain": [
       "HBox(children=(FloatProgress(value=0.0), HTML(value='')))"
      ]
     },
     "metadata": {},
     "output_type": "display_data"
    },
    {
     "name": "stdout",
     "output_type": "stream",
     "text": [
      "\n",
      "[[ 88.  77.  69.  59.  49.  47.  37.  35.]\n",
      " [ 99.  95.  82.  73.  66.  43.  35.  27.]\n",
      " [100.  91.  86.  68.  47.  30.  26.  15.]\n",
      " [100.  97.  87.  64.  41.  34.  13.  13.]\n",
      " [100.  98.  83.  62.  30.  22.  13.  13.]\n",
      " [100.  96.  89.  65.  32.  27.   9.   4.]\n",
      " [100.  97.  84.  60.  43.  14.   4.   2.]\n",
      " [100.  98.  85.  62.  27.  14.   4.   1.]\n",
      " [100.  98.  89.  60.  29.  13.   7.   0.]\n",
      " [  0.   0.   0.   0.   0.   0.   0.   0.]]\n"
     ]
    },
    {
     "data": {
      "application/vnd.jupyter.widget-view+json": {
       "model_id": "9808359bb5ee46d1ab8321fb49ba31a7",
       "version_major": 2,
       "version_minor": 0
      },
      "text/plain": [
       "HBox(children=(FloatProgress(value=0.0), HTML(value='')))"
      ]
     },
     "metadata": {},
     "output_type": "display_data"
    },
    {
     "name": "stdout",
     "output_type": "stream",
     "text": [
      "\n",
      "[[ 88.  77.  69.  59.  49.  47.  37.  35.]\n",
      " [ 99.  95.  82.  73.  66.  43.  35.  27.]\n",
      " [100.  91.  86.  68.  47.  30.  26.  15.]\n",
      " [100.  97.  87.  64.  41.  34.  13.  13.]\n",
      " [100.  98.  83.  62.  30.  22.  13.  13.]\n",
      " [100.  96.  89.  65.  32.  27.   9.   4.]\n",
      " [100.  97.  84.  60.  43.  14.   4.   2.]\n",
      " [100.  98.  85.  62.  27.  14.   4.   1.]\n",
      " [100.  98.  89.  60.  29.  13.   7.   0.]\n",
      " [  0.   0.   0.   0.   0.   0.   0.   0.]]\n",
      "\n"
     ]
    },
    {
     "data": {
      "application/vnd.jupyter.widget-view+json": {
       "model_id": "f2a7717622c54fd8bcbebc881adebf8f",
       "version_major": 2,
       "version_minor": 0
      },
      "text/plain": [
       "HBox(children=(FloatProgress(value=0.0, max=8.0), HTML(value='')))"
      ]
     },
     "metadata": {},
     "output_type": "display_data"
    },
    {
     "data": {
      "application/vnd.jupyter.widget-view+json": {
       "model_id": "c36b9bb1451a4c7ba23e0d7e16adeb7c",
       "version_major": 2,
       "version_minor": 0
      },
      "text/plain": [
       "HBox(children=(FloatProgress(value=0.0), HTML(value='')))"
      ]
     },
     "metadata": {},
     "output_type": "display_data"
    },
    {
     "name": "stdout",
     "output_type": "stream",
     "text": [
      "\n",
      "[[ 88.  77.  69.  59.  49.  47.  37.  35.]\n",
      " [ 99.  95.  82.  73.  66.  43.  35.  27.]\n",
      " [100.  91.  86.  68.  47.  30.  26.  15.]\n",
      " [100.  97.  87.  64.  41.  34.  13.  13.]\n",
      " [100.  98.  83.  62.  30.  22.  13.  13.]\n",
      " [100.  96.  89.  65.  32.  27.   9.   4.]\n",
      " [100.  97.  84.  60.  43.  14.   4.   2.]\n",
      " [100.  98.  85.  62.  27.  14.   4.   1.]\n",
      " [100.  98.  89.  60.  29.  13.   7.   0.]\n",
      " [100.   0.   0.   0.   0.   0.   0.   0.]]\n"
     ]
    },
    {
     "data": {
      "application/vnd.jupyter.widget-view+json": {
       "model_id": "61b246f9eecf4aa8bd93572b29a8dac6",
       "version_major": 2,
       "version_minor": 0
      },
      "text/plain": [
       "HBox(children=(FloatProgress(value=0.0), HTML(value='')))"
      ]
     },
     "metadata": {},
     "output_type": "display_data"
    },
    {
     "name": "stdout",
     "output_type": "stream",
     "text": [
      "\n",
      "[[ 88.  77.  69.  59.  49.  47.  37.  35.]\n",
      " [ 99.  95.  82.  73.  66.  43.  35.  27.]\n",
      " [100.  91.  86.  68.  47.  30.  26.  15.]\n",
      " [100.  97.  87.  64.  41.  34.  13.  13.]\n",
      " [100.  98.  83.  62.  30.  22.  13.  13.]\n",
      " [100.  96.  89.  65.  32.  27.   9.   4.]\n",
      " [100.  97.  84.  60.  43.  14.   4.   2.]\n",
      " [100.  98.  85.  62.  27.  14.   4.   1.]\n",
      " [100.  98.  89.  60.  29.  13.   7.   0.]\n",
      " [100. 100.   0.   0.   0.   0.   0.   0.]]\n"
     ]
    },
    {
     "data": {
      "application/vnd.jupyter.widget-view+json": {
       "model_id": "366b7d3ff89841208e5b185567d35c31",
       "version_major": 2,
       "version_minor": 0
      },
      "text/plain": [
       "HBox(children=(FloatProgress(value=0.0), HTML(value='')))"
      ]
     },
     "metadata": {},
     "output_type": "display_data"
    },
    {
     "name": "stdout",
     "output_type": "stream",
     "text": [
      "\n",
      "[[ 88.  77.  69.  59.  49.  47.  37.  35.]\n",
      " [ 99.  95.  82.  73.  66.  43.  35.  27.]\n",
      " [100.  91.  86.  68.  47.  30.  26.  15.]\n",
      " [100.  97.  87.  64.  41.  34.  13.  13.]\n",
      " [100.  98.  83.  62.  30.  22.  13.  13.]\n",
      " [100.  96.  89.  65.  32.  27.   9.   4.]\n",
      " [100.  97.  84.  60.  43.  14.   4.   2.]\n",
      " [100.  98.  85.  62.  27.  14.   4.   1.]\n",
      " [100.  98.  89.  60.  29.  13.   7.   0.]\n",
      " [100. 100.  83.   0.   0.   0.   0.   0.]]\n"
     ]
    },
    {
     "data": {
      "application/vnd.jupyter.widget-view+json": {
       "model_id": "51440da7873d49129a417e84661ef209",
       "version_major": 2,
       "version_minor": 0
      },
      "text/plain": [
       "HBox(children=(FloatProgress(value=0.0), HTML(value='')))"
      ]
     },
     "metadata": {},
     "output_type": "display_data"
    },
    {
     "name": "stdout",
     "output_type": "stream",
     "text": [
      "\n",
      "[[ 88.  77.  69.  59.  49.  47.  37.  35.]\n",
      " [ 99.  95.  82.  73.  66.  43.  35.  27.]\n",
      " [100.  91.  86.  68.  47.  30.  26.  15.]\n",
      " [100.  97.  87.  64.  41.  34.  13.  13.]\n",
      " [100.  98.  83.  62.  30.  22.  13.  13.]\n",
      " [100.  96.  89.  65.  32.  27.   9.   4.]\n",
      " [100.  97.  84.  60.  43.  14.   4.   2.]\n",
      " [100.  98.  85.  62.  27.  14.   4.   1.]\n",
      " [100.  98.  89.  60.  29.  13.   7.   0.]\n",
      " [100. 100.  83.  72.   0.   0.   0.   0.]]\n"
     ]
    },
    {
     "data": {
      "application/vnd.jupyter.widget-view+json": {
       "model_id": "94ed34c497da4bd694f44ed43a43fb11",
       "version_major": 2,
       "version_minor": 0
      },
      "text/plain": [
       "HBox(children=(FloatProgress(value=0.0), HTML(value='')))"
      ]
     },
     "metadata": {},
     "output_type": "display_data"
    },
    {
     "name": "stdout",
     "output_type": "stream",
     "text": [
      "\n",
      "[[ 88.  77.  69.  59.  49.  47.  37.  35.]\n",
      " [ 99.  95.  82.  73.  66.  43.  35.  27.]\n",
      " [100.  91.  86.  68.  47.  30.  26.  15.]\n",
      " [100.  97.  87.  64.  41.  34.  13.  13.]\n",
      " [100.  98.  83.  62.  30.  22.  13.  13.]\n",
      " [100.  96.  89.  65.  32.  27.   9.   4.]\n",
      " [100.  97.  84.  60.  43.  14.   4.   2.]\n",
      " [100.  98.  85.  62.  27.  14.   4.   1.]\n",
      " [100.  98.  89.  60.  29.  13.   7.   0.]\n",
      " [100. 100.  83.  72.  20.   0.   0.   0.]]\n"
     ]
    },
    {
     "data": {
      "application/vnd.jupyter.widget-view+json": {
       "model_id": "389bcafc73dc4162942b0259f30b6ef0",
       "version_major": 2,
       "version_minor": 0
      },
      "text/plain": [
       "HBox(children=(FloatProgress(value=0.0), HTML(value='')))"
      ]
     },
     "metadata": {},
     "output_type": "display_data"
    },
    {
     "name": "stdout",
     "output_type": "stream",
     "text": [
      "\n",
      "[[ 88.  77.  69.  59.  49.  47.  37.  35.]\n",
      " [ 99.  95.  82.  73.  66.  43.  35.  27.]\n",
      " [100.  91.  86.  68.  47.  30.  26.  15.]\n",
      " [100.  97.  87.  64.  41.  34.  13.  13.]\n",
      " [100.  98.  83.  62.  30.  22.  13.  13.]\n",
      " [100.  96.  89.  65.  32.  27.   9.   4.]\n",
      " [100.  97.  84.  60.  43.  14.   4.   2.]\n",
      " [100.  98.  85.  62.  27.  14.   4.   1.]\n",
      " [100.  98.  89.  60.  29.  13.   7.   0.]\n",
      " [100. 100.  83.  72.  20.   7.   0.   0.]]\n"
     ]
    },
    {
     "data": {
      "application/vnd.jupyter.widget-view+json": {
       "model_id": "33e71abd89de4ec4b62357450436c0b6",
       "version_major": 2,
       "version_minor": 0
      },
      "text/plain": [
       "HBox(children=(FloatProgress(value=0.0), HTML(value='')))"
      ]
     },
     "metadata": {},
     "output_type": "display_data"
    },
    {
     "name": "stdout",
     "output_type": "stream",
     "text": [
      "\n",
      "[[ 88.  77.  69.  59.  49.  47.  37.  35.]\n",
      " [ 99.  95.  82.  73.  66.  43.  35.  27.]\n",
      " [100.  91.  86.  68.  47.  30.  26.  15.]\n",
      " [100.  97.  87.  64.  41.  34.  13.  13.]\n",
      " [100.  98.  83.  62.  30.  22.  13.  13.]\n",
      " [100.  96.  89.  65.  32.  27.   9.   4.]\n",
      " [100.  97.  84.  60.  43.  14.   4.   2.]\n",
      " [100.  98.  85.  62.  27.  14.   4.   1.]\n",
      " [100.  98.  89.  60.  29.  13.   7.   0.]\n",
      " [100. 100.  83.  72.  20.   7.   3.   0.]]\n"
     ]
    },
    {
     "data": {
      "application/vnd.jupyter.widget-view+json": {
       "model_id": "8c87b5a7a15448ea82a97bcdc50c86fd",
       "version_major": 2,
       "version_minor": 0
      },
      "text/plain": [
       "HBox(children=(FloatProgress(value=0.0), HTML(value='')))"
      ]
     },
     "metadata": {},
     "output_type": "display_data"
    },
    {
     "name": "stdout",
     "output_type": "stream",
     "text": [
      "\n",
      "[[ 88.  77.  69.  59.  49.  47.  37.  35.]\n",
      " [ 99.  95.  82.  73.  66.  43.  35.  27.]\n",
      " [100.  91.  86.  68.  47.  30.  26.  15.]\n",
      " [100.  97.  87.  64.  41.  34.  13.  13.]\n",
      " [100.  98.  83.  62.  30.  22.  13.  13.]\n",
      " [100.  96.  89.  65.  32.  27.   9.   4.]\n",
      " [100.  97.  84.  60.  43.  14.   4.   2.]\n",
      " [100.  98.  85.  62.  27.  14.   4.   1.]\n",
      " [100.  98.  89.  60.  29.  13.   7.   0.]\n",
      " [100. 100.  83.  72.  20.   7.   3.   2.]]\n",
      "\n",
      "\n"
     ]
    }
   ],
   "source": [
    "ar = np.zeros((maxV, maxC))\n",
    "\n",
    "for j in tqdm_notebook(range(1, maxV + 1)):\n",
    "    numVar = j\n",
    "    \n",
    "    for k in tqdm_notebook(range(1, maxC + 1)):\n",
    "        numClause = numVar * k\n",
    "        \n",
    "        for it in tqdm_notebook(range(maxIt)):\n",
    "            np.random.seed()\n",
    "\n",
    "            formula = np.zeros(numClause * 3)\n",
    "            isNot = np.zeros(numClause * 3)\n",
    "            #formula, isNot\n",
    "\n",
    "            for i in range(numVar):\n",
    "                formula[i] = i\n",
    "\n",
    "            for i in range(numVar, numClause * 3):\n",
    "                formula[i] = np.random.randint(numVar)\n",
    "\n",
    "            np.random.shuffle(formula)\n",
    "            #print(formula.reshape(-1, 3))\n",
    "\n",
    "            for i in range(numClause * 3):\n",
    "                r = np.random.randint(2)\n",
    "                if r == 0:\n",
    "                    isNot[i] = -1\n",
    "                else:\n",
    "                    isNot[i] = 1\n",
    "\n",
    "            #print(isNot.reshape(-1, 3))\n",
    "\n",
    "            if evaluate(numVar) == True:\n",
    "                ar[j - 1][k - 1] += 1\n",
    "                \n",
    "        print(ar)"
   ]
  },
  {
   "cell_type": "code",
   "execution_count": 9,
   "metadata": {},
   "outputs": [
    {
     "data": {
      "text/plain": [
       "[<matplotlib.lines.Line2D at 0x2506beb5708>,\n",
       " <matplotlib.lines.Line2D at 0x2506d4c0188>,\n",
       " <matplotlib.lines.Line2D at 0x2506d4c0348>,\n",
       " <matplotlib.lines.Line2D at 0x2506d4c0508>,\n",
       " <matplotlib.lines.Line2D at 0x2506d4c07c8>,\n",
       " <matplotlib.lines.Line2D at 0x2506d4c0a88>,\n",
       " <matplotlib.lines.Line2D at 0x2506d4c0c88>,\n",
       " <matplotlib.lines.Line2D at 0x2506d4c0f08>,\n",
       " <matplotlib.lines.Line2D at 0x2506d4c0708>,\n",
       " <matplotlib.lines.Line2D at 0x2506d4c09c8>]"
      ]
     },
     "execution_count": 9,
     "metadata": {},
     "output_type": "execute_result"
    },
    {
     "data": {
      "image/png": "[encoded data removed]",
      "text/plain": [
       "<Figure size 432x288 with 1 Axes>"
      ]
     },
     "metadata": {
      "needs_background": "light"
     },
     "output_type": "display_data"
    }
   ],
   "source": [
    "plt.plot(np.flip(np.rot90(ar)))"
   ]
  },
  {
   "cell_type": "code",
   "execution_count": null,
   "metadata": {},
   "outputs": [],
   "source": []
  }
 ],
 "metadata": {
  "kernelspec": {
   "display_name": "Python 3",
   "language": "python",
   "name": "python3"
  },
  "language_info": {
   "codemirror_mode": {
    "name": "ipython",
    "version": 3
   },
   "file_extension": ".py",
   "mimetype": "text/x-python",
   "name": "python",
   "nbconvert_exporter": "python",
   "pygments_lexer": "ipython3",
   "version": "3.7.7"
  }
 },
 "nbformat": 4,
 "nbformat_minor": 4
}
